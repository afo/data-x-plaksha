{
 "cells": [
  {
   "cell_type": "markdown",
   "metadata": {
    "id": "A7LkGfi9QpjU"
   },
   "source": [
    "# Playing with embeddings \n",
    "\n",
    "Intelligent models don't take as input raw text, they only work with numeric data. *Vectorizing* text is the process of transforming text into numeric tensors.\n",
    "\n",
    "All *vectorizing* methods consist of first *tokenizing* the sentence (Split a sentence into different units) and then associating a vector to each *token*.\n",
    "\n",
    "First, we will introduce *one-hot encoding (OHE)* and then we are going to dive into *word embeddings*.\n",
    "\n",
    "> Note: Some advanced methods, such as pretrained Transformers (BERT[[2]](#references), RoBERTa[[3]](#references), ...) use *n-grams* level tokenization. That is because n-grams tokenization can efficiently handle huge vocabularies."
   ]
  },
  {
   "cell_type": "markdown",
   "metadata": {
    "id": "QOrBapHUot5U",
    "tags": []
   },
   "source": [
    "In this case, OHE vectorization result is telling us that `good` is as different as `great` and `bad` and actually this is false. So we need another vectorization method that can handle **semantic similarities**, here is where **Word Embeddings** is important.\n",
    "\n",
    "## Word Embeddings\n",
    "\n",
    "A more powerful way to convert tokens into vectors is the use of *dense vectors*. Those dense vectors are tokens' representations in which similar words have similar vectors. More precisely, we call those vectors *embeddings*.\n",
    "\n",
    "![](data:image/png;base64,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)\n",
    "\n",
    "Embeddings are more useful then OHE when our problem involves a huge vocabulary. OHE needs vectors of length N to encode words belonging to a vocabulary of N tokens. On the other hand, Word Embedding uses a fixed length to encode a vocabulary of N tokens. It is common to see word embeddings that are 256-dimensional, 512-dimensional, or 1,024-dimensional when dealing with very large vocabularies. So, word embeddings pack more information into ar fewer dimensions.\n",
    "\n",
    "Hopefully, we don't have to think a way to fill those M-dimentional dense vectors manually. Usually embeddings are obtained via two approaches:\n",
    "\n",
    "1. Learn word embeddings joinly with the main task we care about. So in this case embeddings are an extra layer on our neural network that their weights are updated during backpropagation jointly with the task we are trying to solve, for example sentiment analysis. See [this tutorial](https://www.tensorflow.org/beta/tutorials/text/word_embeddings) to learn how to train word embeddings from scratch.\n",
    "\n",
    "2. Load a matrix containing word embedding that were precomputed using a different machine-learning task. These are called pretrained *word embeddings*.\n",
    "\n",
    "In this article we will focus on the second way of obtaining word embeddings. More precisely we are going to use GloVe embeddings [[4](#references)]. We are going to explore the embeddings learned from 6Billion tokens of text coming from Wikipedia.\n",
    "\n",
    "> GloVe is an unsupervised learning algorithm for obtaining vector representations for words. Training is performed on aggregated global word-word co-occurrence statistics from a corpus, and the resulting representations showcase interesting linear substructures of the word vector space. \n",
    "\n",
    "### Playing with pretrained embeddings\n",
    "\n",
    "\n",
    "In this section, we are going to use some vector operations and properties to see how embeddings behave and thus extract some useful takeaways. We are going to find the answer to the following sentences and more:\n",
    "\n",
    "- What's up near a single embedding?\n",
    "- What happens if we add two embeddings?\n",
    "\n",
    "To start our journeym we first need to download the pretrained embeddings from the GloVe (Global Vectors for Word Representation) website. To get the `zip` file containing the embeddings we are going to use a shell *mini script*:"
   ]
  },
  {
   "cell_type": "code",
   "execution_count": null,
   "metadata": {
    "colab": {
     "base_uri": "https://localhost:8080/",
     "height": 472
    },
    "id": "FGS_n9JyaTXb",
    "outputId": "6e2f4d5c-4e8f-462e-cb68-44b1fb5af793"
   },
   "outputs": [],
   "source": [
    "#!wget http://nlp.stanford.edu/data/glove.6B.zip  #takes 4mins to download\n",
    "#!unzip -o glove.6B.zip"
   ]
  },
  {
   "cell_type": "markdown",
   "metadata": {
    "id": "qq91O2vYaTXh"
   },
   "source": [
    "We can see that inside the `glove.6B.zip` file are a bunch of `.txt` files:\n",
    "\n",
    "- glove.6B.50d.txt        \n",
    "- glove.6B.100d.txt       \n",
    "- glove.6B.200d.txt       \n",
    "- glove.6B.300d.txt \n",
    "\n",
    "The file naming convention is as follows:\n",
    "\n",
    "```\n",
    "tokens_used_for_training = '6B' # 6 bilions\n",
    "length_of_embedding_vectors = '300'\n",
    "file_name = f'glove.{tokens_used_for_training}.{length_of_embeddings}d.txt'\n",
    "```\n",
    "\n",
    "We will be using the `glove.6B.300d.txt` file, meaning that embeddings inside this files are 300-dimensional. \n",
    "\n",
    "GloVe embeddings come in txt files where each row contains a token and its embedding. A single row will look like as follows:\n",
    "\n",
    "```\n",
    "hello  0.341  -0.789  0.131 ...\n",
    "```\n",
    "\n",
    "We parse the file as a dict where the key is the word (or the token) and the value is the `numpy array` wrapping the embedding vector."
   ]
  },
  {
   "cell_type": "code",
   "execution_count": null,
   "metadata": {},
   "outputs": [],
   "source": [
    "import numpy as np\n",
    "\n",
    "import warnings\n",
    "warnings.filterwarnings(\"ignore\")"
   ]
  },
  {
   "cell_type": "code",
   "execution_count": null,
   "metadata": {
    "id": "9NL02jSkbsP4"
   },
   "outputs": [],
   "source": [
    "%%time \n",
    "#takes roughly 1min\n",
    "# Dict\n",
    "# key -> the token (word)\n",
    "# value -> word embedding\n",
    "embeddings = {}\n",
    "with open('glove.6B.300d.txt') as f:\n",
    "    embeddings = {l.split()[0]: np.array(l.split()[1:]).astype('float') for l in f}"
   ]
  },
  {
   "cell_type": "markdown",
   "metadata": {
    "id": "sUmxPTLpdxDZ"
   },
   "source": [
    "To understand better how we organize the embeddings we will print the first 5 word embeddings."
   ]
  },
  {
   "cell_type": "code",
   "execution_count": null,
   "metadata": {
    "colab": {
     "base_uri": "https://localhost:8080/",
     "height": 126
    },
    "id": "5F7sYKrkdVfP",
    "outputId": "6ca5a98c-d8b6-473d-9d90-6fcd2f00ee67"
   },
   "outputs": [],
   "source": [
    "for i, (k, v) in enumerate(embeddings.items()):\n",
    "    print('{} -> {}...'.format(k, v[:5]))\n",
    "    if i == 5:\n",
    "        break"
   ]
  },
  {
   "cell_type": "code",
   "execution_count": null,
   "metadata": {},
   "outputs": [],
   "source": [
    "embeddings['ant'].shape"
   ]
  },
  {
   "cell_type": "markdown",
   "metadata": {
    "id": "b-xJFXIBjRUu"
   },
   "source": [
    "#### The First experiment - Get closest embeddings\n",
    "\n",
    "First, we define a function that will help us to get the top k similar embeddings to a word. The distance is computed via the euclidean distance\n",
    "\n",
    "$ d(x, y) = (\\sum_{k=1}^{n} | x_k - y_k |^2)^{1/2} $\n",
    "\n",
    "> Note: Try to understand this function because it will be crucial with the following experiments."
   ]
  },
  {
   "cell_type": "code",
   "execution_count": null,
   "metadata": {
    "id": "l--q6LW6gqH5"
   },
   "outputs": [],
   "source": [
    "def get_closest(x, top_k=3):\n",
    "    \"\"\"\n",
    "    Get the closest embeddings calculating the euclidean distance\n",
    "\n",
    "    Parameters\n",
    "    ----------\n",
    "    x: np.ndarray\n",
    "    Vector containing an embedding\n",
    "    top_k: int, optional\n",
    "    Get the top k similar embeddings\n",
    "\n",
    "    Returns\n",
    "    -------\n",
    "    dict\n",
    "    Dict containing the top k similar embeddings to the given x\n",
    "    \"\"\"\n",
    "    # Stack all embeddings in a single matrix. Note: the matrix dimention will be\n",
    "    # V x D where V is the vocabulary size and D is the embedding dimension\n",
    "    embedding_matrix = np.array(list(embeddings.values()))\n",
    "    # Using broadcasting compute distance to each embedding in our vocabulary\n",
    "    distances = x - embedding_matrix\n",
    "    # Compute the magnitude of each distance\n",
    "    distances = np.linalg.norm(distances, axis=1)\n",
    "    # Sort distance and keep the smallest k\n",
    "    min_idx = np.argsort(distances)[:top_k]\n",
    "    return {list(embeddings)[i]: embedding_matrix[i] for i in min_idx}"
   ]
  },
  {
   "cell_type": "markdown",
   "metadata": {
    "id": "wtqWiMwUlHxt"
   },
   "source": [
    "Now we are going to retrieve the top 5 similar embeddings near to the token `dog`. If our intuition that word embeddings encode semantics we will get the embeddings corresponding to tokens like `pet`, `dogs`, etc."
   ]
  },
  {
   "cell_type": "code",
   "execution_count": null,
   "metadata": {
    "colab": {
     "base_uri": "https://localhost:8080/",
     "height": 35
    },
    "id": "2Cw-16CHlPlz",
    "outputId": "4e8266d4-00a1-4a21-ddec-897cb8d61277"
   },
   "outputs": [],
   "source": [
    "similar_animal = get_closest(embeddings['dog'], top_k=5)\n",
    "list(similar_animal)"
   ]
  },
  {
   "cell_type": "markdown",
   "metadata": {
    "id": "Tfzeq-JXlvf5"
   },
   "source": [
    "Wow! Our embeddings know how to represent a dog into a vector space. As we see, embeddings encode a lot of interesting features. For example, in this case, `dog` is very related to:\n",
    "- `dogs` which it is its plural\n",
    "- `cat` which is another `pet` \n",
    "- and also to `puppy` which is a little dog.\n",
    "\n",
    "Fortunately, we can plot those embeddings in a 2D space to then better visualize them and understand how these semantics are encoded in a 2D space.\n",
    "\n",
    "As you might notice, the embeddings that we are working with are 300-dimensional. So a question that instantly comes to our minds is: How can we plot a vector in a 300-dimensional space!?. The answer is simple, we can reduce a vector dimensionality using Principal Component Analysis (PCA). PCA allows us to project vectors to a lower-dimensional space without losing much information. To learn more about PCA refer to the [PCA sklearn User Guide](https://scikit-learn.org/stable/modules/decomposition.html#pca).\n",
    "\n",
    "We are going to encapsulate the complexity (sklearn does the complex part 🙄) of the plot inside a function."
   ]
  },
  {
   "cell_type": "code",
   "execution_count": null,
   "metadata": {
    "id": "n2C7Tyn5yTDJ"
   },
   "outputs": [],
   "source": [
    "import matplotlib.pyplot as plt\n",
    "from sklearn.decomposition  import PCA\n",
    "\n",
    "def to_2d(embeddings):\n",
    "    # To reduce embedding dims without losing much information we use PCA\n",
    "    pca = PCA(n_components=2, whiten=True)\n",
    "    pca.fit(embeddings)\n",
    "    return pca.transform(embeddings)\n",
    "\n",
    "\n",
    "def annotated_scatter(points, names, color='blue'):\n",
    "    x_coords = points[:, 0]\n",
    "    y_coords = points[:, 1]\n",
    "\n",
    "    plt.scatter(x_coords, y_coords, c=color)\n",
    "    for label, x, y in zip(names, x_coords, y_coords):\n",
    "        plt.annotate(label, xy=(x, y), xytext=(0, 0), textcoords='offset points')\n",
    "\n",
    "    plt.xlim(x_coords.min() - .5, x_coords.max() + .5)\n",
    "    plt.ylim(y_coords.min() - .5, y_coords.max() + .5)\n",
    "    \n",
    "    \n",
    "def plot_embeddings(embeddings, names, color='blue', show=True):\n",
    "    X_train = np.array([embeddings[k] for k in names])\n",
    "\n",
    "    embeddings_2d = to_2d(X_train)\n",
    "\n",
    "    annotated_scatter(embeddings_2d, names, color)\n",
    "    plt.grid()\n",
    "\n",
    "    if show:\n",
    "        plt.show()"
   ]
  },
  {
   "cell_type": "markdown",
   "metadata": {
    "id": "Pcmr2V9_z6sB"
   },
   "source": [
    "Now we will plot the embeddings similar to `dog` and embeddings similar to `computer`. This way we will be able to see two clusters of embeddings, one cluster for tokens related to pets and another cluster for tokens related to techology. "
   ]
  },
  {
   "cell_type": "code",
   "execution_count": null,
   "metadata": {
    "colab": {
     "base_uri": "https://localhost:8080/",
     "height": 269
    },
    "id": "qajZnOcg0YEC",
    "outputId": "349b3994-3aad-469a-8f80-caf5e0dd68ec"
   },
   "outputs": [],
   "source": [
    "near_dog = list(similar_animal)\n",
    "near_computer = list(get_closest(embeddings['computer'], top_k=5))\n",
    "\n",
    "plot_embeddings(embeddings, \n",
    "                near_dog + near_computer, \n",
    "                color=['red'] * len(near_dog) + ['green'] * len(near_computer));"
   ]
  },
  {
   "cell_type": "markdown",
   "metadata": {
    "id": "9deXgWG56LDz"
   },
   "source": [
    "Interesting, isn't it? Now, we have seen that embeddings encode word semantics and therfore we can use it to get words with similar meanings. That is important for deep learning tasks such as sentiment analysis, document classification, topic extraction, etc. \n",
    "\n",
    "Interestingly, when we train word embeddings from scratch for a sentiment analysis task, we end up learning embeddings that their representation is composed of two clusters.\n",
    "1. one cluster for positive tokens\n",
    "2. and another for negative tokens."
   ]
  },
  {
   "cell_type": "markdown",
   "metadata": {
    "id": "z-HwO_LxbrOh"
   },
   "source": [
    "#### The second Experiment - Adding two embeddings\n",
    "\n",
    "Before adding 2 embeddings and observe interesting properties, we first need to identify the linear substructures. We can think of linear substructures as relationships that exist between words. Some linear substructures include:\n",
    "\n",
    "- Man ~ Woman -> Linear Substructure: Sex\n",
    "- King ~ Queen -> Linear Substructure: Sex\n",
    "- Dog ~ Canine -> Linear Substructure: Specie\n",
    "- Cat ~ Feline -> Linear Substructure: Specie\n",
    "\n",
    "Now, we are going to define a new function to plot pairs of linear substructures."
   ]
  },
  {
   "cell_type": "code",
   "execution_count": null,
   "metadata": {
    "id": "VuaM17uXby53"
   },
   "outputs": [],
   "source": [
    "from collections import namedtuple\n",
    "import matplotlib.lines as mlines\n",
    "from matplotlib import cm\n",
    "\n",
    "LinearSubs = namedtuple('LinearSubs', \n",
    "                        ('word_pair', 'name'))\n",
    "\n",
    "def plot_linear_substructures(linear_subs):\n",
    "    embeddings_matrix = [embeddings[p] for ls in linear_subs for p in ls.word_pair]\n",
    "    embeddings_matrix = np.array(embeddings_matrix)\n",
    "\n",
    "    pair_names = [p for ls in linear_subs for p in ls.word_pair]\n",
    "    ls_names = [ls.name for ls in linear_subs]\n",
    "    embeddings_2d = to_2d(embeddings_matrix)\n",
    "\n",
    "    annotated_scatter(embeddings_2d, \n",
    "                    pair_names, \n",
    "                    cm.Set1.colors[:len(embeddings_2d)])\n",
    "  \n",
    "    for i in range(0, len(embeddings_2d), 2):\n",
    "        p1 = embeddings_2d[i]\n",
    "        p2 = embeddings_2d[i + 1]\n",
    "        # Center of the linear substructure\n",
    "        center = [(p1[i] + p2[i]) / 2 + .04 for i in range(2)]\n",
    "\n",
    "        plt.plot(*zip(p1, p2), '--')\n",
    "        plt.annotate(ls_names[i // 2], \n",
    "                     xy=center, \n",
    "                     xytext=(0, 0), textcoords='offset points')"
   ]
  },
  {
   "cell_type": "markdown",
   "metadata": {
    "id": "dJWpBWQ3V8_k"
   },
   "source": [
    "In the following plot we can see three different interesting linear substructures:\n",
    "\n",
    "1. Sex: We use this linear structure to convert from male to female\n",
    "2. Family: Given an animal species, such as cat, we can get its family using the species linear substructure\n",
    "3. Product: Given a brand name like Samsung exists a linear relation to the kind of product that they manufacture."
   ]
  },
  {
   "cell_type": "code",
   "execution_count": null,
   "metadata": {
    "colab": {
     "base_uri": "https://localhost:8080/",
     "height": 323
    },
    "id": "n5xJm32g27Qa",
    "outputId": "a5356dc8-e6d9-4593-fbe5-1ddc0398c6b4"
   },
   "outputs": [],
   "source": [
    "plt.figure(figsize=(20, 5))\n",
    "\n",
    "plt.subplot(131)\n",
    "plot_linear_substructures([LinearSubs(('man', 'woman'), 'sex'),\n",
    "                           LinearSubs(('king', 'queen'), 'sex'),\n",
    "                           LinearSubs(('mother', 'father'), 'sex')])\n",
    "\n",
    "plt.subplot(132)\n",
    "plot_linear_substructures([LinearSubs(('cat', 'feline'), 'family'),\n",
    "                           LinearSubs(('dog', 'canine'), 'family'),\n",
    "                           LinearSubs(('parrot', 'bird'), 'family')])\n",
    "\n",
    "plt.subplot(133)\n",
    "plot_linear_substructures([LinearSubs(('samsung', 'mobile'), 'product'),\n",
    "                           LinearSubs(('sony', 'tv'), 'product'),\n",
    "                           LinearSubs(('ikea', 'furniture'), 'product')])"
   ]
  },
  {
   "cell_type": "markdown",
   "metadata": {
    "id": "DakSoG09qoBf"
   },
   "source": [
    "Once, we have identified the linear substructures, we can use them to \"approximate\" other embeddings. For example:\n",
    "\n",
    "- If we add the linear substructure `sex` to the word \"son\", then we will find an embedding that is close to `daughter` representation.\n",
    "\n",
    "- The same would happen if we add the linear substructure `family` to an animal species.\n",
    "\n",
    "See the below execution to corroborate this theory."
   ]
  },
  {
   "cell_type": "code",
   "execution_count": null,
   "metadata": {
    "colab": {
     "base_uri": "https://localhost:8080/",
     "height": 54
    },
    "id": "4Jtb7sIhoVrg",
    "outputId": "a99d02ab-3db4-40a9-cafc-b08ddcbb9dd1"
   },
   "outputs": [],
   "source": [
    "def get_linear_subs_vect(ls):\n",
    "    return embeddings[ls.word_pair[1]] - embeddings[ls.word_pair[0]]\n",
    "\n",
    "sex_ls = get_linear_subs_vect(LinearSubs(('man', 'woman'), 'sex'))\n",
    "specie_ls = get_linear_subs_vect(LinearSubs(('canine', 'dog'), 'family'))\n",
    "\n",
    "print('\"Son\" + male to female =', list(get_closest(embeddings['son'] + sex_ls, top_k=1)))\n",
    "print('\"Salmon\" 🐟 + animal to specie =', list(get_closest(embeddings['salmon'] + specie_ls, top_k=5)))"
   ]
  },
  {
   "cell_type": "markdown",
   "metadata": {
    "id": "gZ3DHbVyrtBW"
   },
   "source": [
    "As expected it works 😊. Let see what we exactly did:\n",
    "\n",
    "1. First, we retrieved the vector which represents the linear substructure. To do so, we subtract two embeddings which are related by a known linear substructure. For example, subtracting `man` embedding to `woman` embedding results in the male to female linear substructure vector.\n",
    "2. Then, we add this vector to a random embedding. In our case, instead of a random embedding, we chose \"Son\" embedding because it has a straight forward female \"version\", therefore we know that the expected output should be \"daughter\".\n",
    "3. Finally, we get the top k closest embeddings to the result of the addition and check if the linear substructure is still valid for the recently pciked embedding.\n",
    "\n",
    "<img src=\"data:image/png;base64,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\"></img>\n"
   ]
  },
  {
   "cell_type": "markdown",
   "metadata": {
    "id": "ZsBmgXqIY2Al"
   },
   "source": [
    "## Conclusions\n",
    "\n",
    "Important takeaways:\n",
    "\n",
    "- Intelligent models cannot receive raw text as input, so we need to convert text to numbers. This process is called *vectorizing*.\n",
    "- Even though, One Hot Encoding is memory inefficient in some small vocabularies may be the way to go.\n",
    "- A more powerful technique to vectorize a vocabulary is word embedding. Word Embedding can encode semantics.\n",
    "- Word Embeddings can be download from the internet (pretrained) or we can learn them from scratch jointly with our task.\n",
    "- We can use the Word Embedding semantics to perform some operations on them.\n",
    "  - Get k nearest neighbors\n",
    "  - Approximate embeddings using observed linear substructures.\n",
    "\n",
    "Thanks for reading my article. I am looking forward to seeing you again on my blog.\n",
    "\n",
    "\n",
    "Addtional Resources:\n",
    "\n",
    "1. **Using pre-trained word embeddings: Text classification on the Newsgroup20 dataset using pre-trained GloVe word embeddings.** https://colab.research.google.com/github/keras-team/keras-io/blob/master/examples/nlp/ipynb/pretrained_word_embeddings.ipynb\n",
    "\n",
    "## References\n",
    " <a id=\"references\"></a>\n",
    "- [1] Deep Learning with Python - François Chollet <a id=\"ref-1\"></a>\n",
    "- [2] BERT: Pre-training of Deep Bidirectional Transformers for Language Understanding - https://arxiv.org/abs/1810.04805\n",
    "- [3] RoBERTa: An optimized method for pretraining self-supervised NLP systems - https://arxiv.org/abs/1907.11692\n",
    "- [4] GloVe: Global Vectors for Word Representation - https://nlp.stanford.edu/projects/glove/"
   ]
  },
  {
   "cell_type": "code",
   "execution_count": null,
   "metadata": {},
   "outputs": [],
   "source": []
  }
 ],
 "metadata": {
  "colab": {
   "collapsed_sections": [],
   "name": "playing-word-embeddings.ipynb",
   "provenance": [],
   "toc_visible": true
  },
  "kernelspec": {
   "display_name": "Python 3 (ipykernel)",
   "language": "python",
   "name": "python3"
  },
  "language_info": {
   "codemirror_mode": {
    "name": "ipython",
    "version": 3
   },
   "file_extension": ".py",
   "mimetype": "text/x-python",
   "name": "python",
   "nbconvert_exporter": "python",
   "pygments_lexer": "ipython3",
   "version": "3.9.15"
  }
 },
 "nbformat": 4,
 "nbformat_minor": 4
}
