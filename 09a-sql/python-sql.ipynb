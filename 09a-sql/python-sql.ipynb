{
 "cells": [
  {
   "cell_type": "markdown",
   "metadata": {},
   "source": [
    "![data-x](https://raw.githubusercontent.com/afo/data-x-plaksha/master/imgsource/dx_logo.png)\n",
    "\n",
    "---\n",
    "# Notebook: SQL in Python\n",
    "\n",
    "**Author list:** Alexander Fred Ojala & Sindhuja Jeyabal\n",
    "\n",
    "**References / Sources:** \n",
    "\n",
    "\n",
    "**License Agreement:** Feel free to do whatever you want with this code\n",
    "\n",
    "___"
   ]
  },
  {
   "cell_type": "markdown",
   "metadata": {},
   "source": [
    "# Table of Contents\n",
    "\n",
    "### * [Basics: sqlite3 (Python builtin)](#sec1)\n",
    "### * [Pandas and SQL](#sec2)\n",
    "### * [Breakout](#sec3)\n",
    "### * [ORM: SQLAlchemy](#sec4)"
   ]
  },
  {
   "cell_type": "markdown",
   "metadata": {},
   "source": [
    "<div id=\"sec1\"></div>"
   ]
  },
  {
   "cell_type": "markdown",
   "metadata": {},
   "source": [
    "## SQLite 3"
   ]
  },
  {
   "cell_type": "code",
   "execution_count": 1,
   "metadata": {},
   "outputs": [],
   "source": [
    "# sqlite3 package comes with the Python installation\n",
    "import sqlite3"
   ]
  },
  {
   "cell_type": "code",
   "execution_count": 2,
   "metadata": {
    "scrolled": true
   },
   "outputs": [
    {
     "name": "stdout",
     "output_type": "stream",
     "text": [
      "311_NYC.csv                     \u001b[1m\u001b[36mhw\u001b[m\u001b[m\n",
      "311_NYC.db                      \u001b[1m\u001b[36mimgs\u001b[m\u001b[m\n",
      "README.md                       intro-to-dbs-and-sql_v2-afo.pdf\n",
      "company.db                      python-sql.ipynb\n",
      "company.db-journal              \u001b[1m\u001b[36mreources\u001b[m\u001b[m\n",
      "\u001b[1m\u001b[36mextra_material\u001b[m\u001b[m\n"
     ]
    }
   ],
   "source": [
    "# list files in w.d.\n",
    "!ls"
   ]
  },
  {
   "cell_type": "code",
   "execution_count": 3,
   "metadata": {},
   "outputs": [],
   "source": [
    "# open connnection to a db file stored locally on disk\n",
    "# if file doesn't exist it is created\n",
    "connection = sqlite3.connect('company.db')"
   ]
  },
  {
   "cell_type": "code",
   "execution_count": 4,
   "metadata": {},
   "outputs": [
    {
     "name": "stdout",
     "output_type": "stream",
     "text": [
      "311_NYC.csv                     \u001b[1m\u001b[36mhw\u001b[m\u001b[m\n",
      "311_NYC.db                      \u001b[1m\u001b[36mimgs\u001b[m\u001b[m\n",
      "README.md                       intro-to-dbs-and-sql_v2-afo.pdf\n",
      "company.db                      python-sql.ipynb\n",
      "company.db-journal              \u001b[1m\u001b[36mreources\u001b[m\u001b[m\n",
      "\u001b[1m\u001b[36mextra_material\u001b[m\u001b[m\n"
     ]
    }
   ],
   "source": [
    "!ls # file is created"
   ]
  },
  {
   "cell_type": "code",
   "execution_count": 5,
   "metadata": {},
   "outputs": [],
   "source": [
    "# In order to run SQL commands with\n",
    "# sqlite 3 we must create a cursor object\n",
    "# that traverses the database\n",
    "cursor = connection.cursor()\n",
    "\n",
    "# to run sql commands execute them"
   ]
  },
  {
   "cell_type": "code",
   "execution_count": 6,
   "metadata": {},
   "outputs": [
    {
     "data": {
      "text/plain": [
       "<sqlite3.Cursor at 0x7f7da0029030>"
      ]
     },
     "execution_count": 6,
     "metadata": {},
     "output_type": "execute_result"
    }
   ],
   "source": [
    "# Check that we are working with an empty db\n",
    "cursor.execute(\"DROP TABLE IF EXISTS employee;\")"
   ]
  },
  {
   "cell_type": "code",
   "execution_count": 7,
   "metadata": {},
   "outputs": [],
   "source": [
    "# We can define long SQL commands within three quotes\n",
    "\n",
    "sql_command = \"\"\"\n",
    "CREATE TABLE employee (\n",
    "staff_number INTEGER PRIMARY KEY,\n",
    "fname VARCHAR(20),\n",
    "lname VARCHAR(30),\n",
    "gender CHAR(1),\n",
    "birth_date DATE);\n",
    "\"\"\"\n",
    "\n",
    "# VARCHAR string that can be up to X characters\n",
    "# CHAR has to be X characters"
   ]
  },
  {
   "cell_type": "markdown",
   "metadata": {},
   "source": [
    "**Link to SQL datatypes:** [https://www.w3schools.com/sql/sql_datatypes.asp](https://www.w3schools.com/sql/sql_datatypes.asp)"
   ]
  },
  {
   "cell_type": "code",
   "execution_count": 8,
   "metadata": {},
   "outputs": [
    {
     "data": {
      "text/plain": [
       "<sqlite3.Cursor at 0x7f7da0029030>"
      ]
     },
     "execution_count": 8,
     "metadata": {},
     "output_type": "execute_result"
    }
   ],
   "source": [
    "# In order to run SQL command on the databse file\n",
    "# we have to execute them with the cursor\n",
    "cursor.execute(sql_command)"
   ]
  },
  {
   "cell_type": "code",
   "execution_count": 9,
   "metadata": {},
   "outputs": [
    {
     "data": {
      "text/plain": [
       "<sqlite3.Cursor at 0x7f7da0029030>"
      ]
     },
     "execution_count": 9,
     "metadata": {},
     "output_type": "execute_result"
    }
   ],
   "source": [
    "sql_command = '''\n",
    "INSERT INTO employee\n",
    "(staff_number, fname, lname, gender, birth_date)\n",
    "VALUES\n",
    "(NULL, NULL, \"Shakespeare\", \"m\", \"1961-10-25\");'''\n",
    "\n",
    "cursor.execute(sql_command)"
   ]
  },
  {
   "cell_type": "code",
   "execution_count": 10,
   "metadata": {},
   "outputs": [
    {
     "data": {
      "text/plain": [
       "<sqlite3.Cursor at 0x7f7da0029030>"
      ]
     },
     "execution_count": 10,
     "metadata": {},
     "output_type": "execute_result"
    }
   ],
   "source": [
    "sql_command = '''\n",
    "INSERT INTO employee \n",
    "(staff_number, fname, lname, gender, birth_date) \n",
    "VALUES (5, \"Frankia2\", \"Schillerya2\", \"m\", \"1958-08-17\");'''\n",
    "\n",
    "\n",
    "cursor.execute(sql_command)"
   ]
  },
  {
   "cell_type": "code",
   "execution_count": 11,
   "metadata": {},
   "outputs": [],
   "source": [
    "# never forget to commit your queries\n",
    "# if you have updated the database\n",
    "# and close the connection when you're done\n",
    "\n",
    "connection.commit() \n",
    "\n",
    "connection.close()"
   ]
  },
  {
   "cell_type": "code",
   "execution_count": 12,
   "metadata": {},
   "outputs": [],
   "source": [
    "# reopen the connection and create cursor\n",
    "connection = sqlite3.connect('company.db')\n",
    "\n",
    "cursor = connection.cursor()"
   ]
  },
  {
   "cell_type": "code",
   "execution_count": 13,
   "metadata": {},
   "outputs": [],
   "source": [
    "a = cursor.execute('SELECT * FROM employee;')"
   ]
  },
  {
   "cell_type": "code",
   "execution_count": 14,
   "metadata": {},
   "outputs": [
    {
     "data": {
      "text/plain": [
       "<sqlite3.Cursor at 0x7f7da0029a40>"
      ]
     },
     "execution_count": 14,
     "metadata": {},
     "output_type": "execute_result"
    }
   ],
   "source": [
    "a"
   ]
  },
  {
   "cell_type": "code",
   "execution_count": 15,
   "metadata": {},
   "outputs": [
    {
     "data": {
      "text/plain": [
       "[(1, None, 'Shakespeare', 'm', '1961-10-25'),\n",
       " (5, 'Frankia2', 'Schillerya2', 'm', '1958-08-17')]"
      ]
     },
     "execution_count": 15,
     "metadata": {},
     "output_type": "execute_result"
    }
   ],
   "source": [
    "a.fetchall()"
   ]
  },
  {
   "cell_type": "code",
   "execution_count": 16,
   "metadata": {},
   "outputs": [],
   "source": [
    "# fetch values, a.fetchall is a generator object\n",
    "for row in a.fetchall():\n",
    "    print(row)"
   ]
  },
  {
   "cell_type": "code",
   "execution_count": 17,
   "metadata": {},
   "outputs": [],
   "source": [
    "# close connection\n",
    "connection.close()"
   ]
  },
  {
   "cell_type": "code",
   "execution_count": 18,
   "metadata": {},
   "outputs": [],
   "source": [
    "# Assume we already have a company.db sqlite database file\n",
    "# with a Table called employees\n",
    "\n",
    "# Add several values with sqlite3 and string formatting\n",
    "\n",
    "connection = sqlite3.connect(\"company.db\")\n",
    "\n",
    "cursor = connection.cursor()\n",
    "\n",
    "# list of tuples we want to add to the database\n",
    "staff_data = [ (\"Alfred\", \"Nobel\", \"m\", \"1921-05-02\"), \\\n",
    "              (\"Klaus\", \"Kinski\", \"m\", \"1935-09-07\"),  \\\n",
    "              (\"Jane\", \"Wall\", \"f\", \"1989-05-03\") ]\n",
    "\n",
    "for p in staff_data:\n",
    "    \n",
    "    # define string to be formatted, name format placeholders within curly brackets\n",
    "    format_str = '''\n",
    "    INSERT INTO employee (staff_number, fname, lname, gender, birth_date)    \n",
    "    VALUES (NULL, \"{first}\", \"{last}\", \"{gender}\", \"{birthdate}\");\n",
    "    '''\n",
    "\n",
    "    # define SQL command\n",
    "    sql_command = format_str.format(first=p[0], last=p[1], \n",
    "                                gender=p[2], birthdate = p[3]) \n",
    "    \n",
    "    cursor.execute(sql_command)\n",
    "    \n",
    "# Commit changes\n",
    "connection.commit()"
   ]
  },
  {
   "cell_type": "code",
   "execution_count": 19,
   "metadata": {},
   "outputs": [
    {
     "name": "stdout",
     "output_type": "stream",
     "text": [
      "fetchall:\n",
      "(1, None, 'Shakespeare', 'm', '1961-10-25')\n",
      "(5, 'Frankia2', 'Schillerya2', 'm', '1958-08-17')\n",
      "(6, 'Alfred', 'Nobel', 'm', '1921-05-02')\n",
      "(7, 'Klaus', 'Kinski', 'm', '1935-09-07')\n",
      "(8, 'Jane', 'Wall', 'f', '1989-05-03')\n"
     ]
    }
   ],
   "source": [
    "# Check that the changes were committed\n",
    "cursor.execute(\"SELECT * FROM employee\") \n",
    "\n",
    "print(\"fetchall:\") \n",
    "\n",
    "result = cursor.fetchall() \n",
    "\n",
    "for r in result:\n",
    "\n",
    "    print(r) "
   ]
  },
  {
   "cell_type": "code",
   "execution_count": 20,
   "metadata": {},
   "outputs": [
    {
     "data": {
      "text/plain": [
       "5"
      ]
     },
     "execution_count": 20,
     "metadata": {},
     "output_type": "execute_result"
    }
   ],
   "source": [
    "cursor.execute('SELECT Count(*) FROM employee').fetchone()[0]"
   ]
  },
  {
   "cell_type": "code",
   "execution_count": 21,
   "metadata": {},
   "outputs": [
    {
     "name": "stdout",
     "output_type": "stream",
     "text": [
      "\n",
      "Fetch one at a time:\n",
      "(1, None, 'Shakespeare', 'm', '1961-10-25')\n",
      "(5, 'Frankia2', 'Schillerya2', 'm', '1958-08-17')\n",
      "(6, 'Alfred', 'Nobel', 'm', '1921-05-02')\n",
      "(7, 'Klaus', 'Kinski', 'm', '1935-09-07')\n",
      "(8, 'Jane', 'Wall', 'f', '1989-05-03')\n"
     ]
    }
   ],
   "source": [
    "# Alternative approach\n",
    "\n",
    "# Count rows in the database\n",
    "n_rows = cursor.execute('SELECT Count(*) FROM employee').fetchone()[0]\n",
    "\n",
    "res = cursor.execute(\"SELECT * FROM employee\") \n",
    "\n",
    "print(\"\\nFetch one at a time:\") \n",
    "for i in range(0,n_rows): # we need to unpack\n",
    "    tmp = res.fetchone() \n",
    "\n",
    "    print(tmp)"
   ]
  },
  {
   "cell_type": "markdown",
   "metadata": {},
   "source": [
    "<div id=\"sec2\"></div>"
   ]
  },
  {
   "cell_type": "markdown",
   "metadata": {},
   "source": [
    "# Quick Data Analysis with SQL and Pandas"
   ]
  },
  {
   "cell_type": "markdown",
   "metadata": {},
   "source": [
    "### Preferred method when running SELECT statements"
   ]
  },
  {
   "cell_type": "code",
   "execution_count": 22,
   "metadata": {},
   "outputs": [],
   "source": [
    "import pandas as pd\n",
    "import datetime as dt "
   ]
  },
  {
   "cell_type": "code",
   "execution_count": 23,
   "metadata": {},
   "outputs": [
    {
     "data": {
      "text/html": [
       "<div>\n",
       "<style scoped>\n",
       "    .dataframe tbody tr th:only-of-type {\n",
       "        vertical-align: middle;\n",
       "    }\n",
       "\n",
       "    .dataframe tbody tr th {\n",
       "        vertical-align: top;\n",
       "    }\n",
       "\n",
       "    .dataframe thead th {\n",
       "        text-align: right;\n",
       "    }\n",
       "</style>\n",
       "<table border=\"1\" class=\"dataframe\">\n",
       "  <thead>\n",
       "    <tr style=\"text-align: right;\">\n",
       "      <th></th>\n",
       "      <th>staff_number</th>\n",
       "      <th>fname</th>\n",
       "      <th>lname</th>\n",
       "      <th>gender</th>\n",
       "      <th>birth_date</th>\n",
       "    </tr>\n",
       "  </thead>\n",
       "  <tbody>\n",
       "    <tr>\n",
       "      <th>0</th>\n",
       "      <td>1</td>\n",
       "      <td>None</td>\n",
       "      <td>Shakespeare</td>\n",
       "      <td>m</td>\n",
       "      <td>1961-10-25</td>\n",
       "    </tr>\n",
       "    <tr>\n",
       "      <th>1</th>\n",
       "      <td>5</td>\n",
       "      <td>Frankia2</td>\n",
       "      <td>Schillerya2</td>\n",
       "      <td>m</td>\n",
       "      <td>1958-08-17</td>\n",
       "    </tr>\n",
       "    <tr>\n",
       "      <th>2</th>\n",
       "      <td>6</td>\n",
       "      <td>Alfred</td>\n",
       "      <td>Nobel</td>\n",
       "      <td>m</td>\n",
       "      <td>1921-05-02</td>\n",
       "    </tr>\n",
       "    <tr>\n",
       "      <th>3</th>\n",
       "      <td>7</td>\n",
       "      <td>Klaus</td>\n",
       "      <td>Kinski</td>\n",
       "      <td>m</td>\n",
       "      <td>1935-09-07</td>\n",
       "    </tr>\n",
       "    <tr>\n",
       "      <th>4</th>\n",
       "      <td>8</td>\n",
       "      <td>Jane</td>\n",
       "      <td>Wall</td>\n",
       "      <td>f</td>\n",
       "      <td>1989-05-03</td>\n",
       "    </tr>\n",
       "  </tbody>\n",
       "</table>\n",
       "</div>"
      ],
      "text/plain": [
       "   staff_number     fname        lname gender  birth_date\n",
       "0             1      None  Shakespeare      m  1961-10-25\n",
       "1             5  Frankia2  Schillerya2      m  1958-08-17\n",
       "2             6    Alfred        Nobel      m  1921-05-02\n",
       "3             7     Klaus       Kinski      m  1935-09-07\n",
       "4             8      Jane         Wall      f  1989-05-03"
      ]
     },
     "execution_count": 23,
     "metadata": {},
     "output_type": "execute_result"
    }
   ],
   "source": [
    "# this gives the output as a dataframe\n",
    "pd.read_sql_query('SELECT * FROM employee',con = connection)"
   ]
  },
  {
   "cell_type": "markdown",
   "metadata": {},
   "source": [
    "#### Initialize database with filename 311_NYC.db in current working directory"
   ]
  },
  {
   "cell_type": "code",
   "execution_count": 24,
   "metadata": {},
   "outputs": [
    {
     "name": "stdout",
     "output_type": "stream",
     "text": [
      "index,CreatedDate,ClosedDate,Agency,ComplaintType,Descriptor,City\n",
      "1,\"2011-06-20 10:53:34\",\"2011-06-20 15:15:10\",DOF,\"DOF Property - Owner Issue\",\"Remove Mortgage\",\"GLEN OAKS\"\n",
      "2,\"2011-06-20 10:43:46\",\"2011-06-30 11:33:32\",DOT,\"Street Condition\",\"Defective Hardware\",BROOKLYN\n",
      "3,\"2011-06-20 11:14:08\",\"2011-06-21 18:41:35\",DHS,\"DHS Advantage - Tenant\",\"Other Issue\",\"SOUTH RICHMOND HILL\"\n",
      "4,\"2011-06-20 11:19:17\",\"2011-06-20 14:11:47\",DOT,\"Broken Muni Meter\",\"No Receipt\",\"FOREST HILLS\"\n",
      "5,\"2011-06-20 11:41:47\",\"2011-06-27 10:22:55\",DOF,SCRIE,\"SCRIE Recertification\",\"NEW YORK\"\n",
      "6,\"2011-06-20 11:39:36\",\"2011-06-24 09:07:31\",DOF,SCRIE,\"SCRIE Application Problem\",BROOKLYN\n",
      "7,\"2011-06-20 12:47:17\",\"2011-06-21 09:59:33\",DOF,\"DOF Property - Reduction Issue\",\"Condo or Co-op Abatement\",BROOKLYN\n",
      "8,\"2011-06-20 13:08:49\",\"2011-06-22 13:43:12\",DOF,\"DOF Property - Payment Issue\",\"Misapplied Payment\",\"QUEENS VILLAGE\"\n",
      "9,\"2011-06-20 00:00:00\",\"2011-07-18 00:00:00\",DOHMH,Rodent,\"Rat Sighting\",\"NEW YORK\"\n"
     ]
    }
   ],
   "source": [
    "!head -n10 311_NYC.csv"
   ]
  },
  {
   "cell_type": "code",
   "execution_count": 25,
   "metadata": {},
   "outputs": [
    {
     "name": "stdout",
     "output_type": "stream",
     "text": [
      "   40001 311_NYC.csv\n"
     ]
    }
   ],
   "source": [
    "!wc -l 311_NYC.csv #number of lines"
   ]
  },
  {
   "cell_type": "markdown",
   "metadata": {
    "tags": []
   },
   "source": [
    "### Read in big CSV file to Database\n",
    "\n",
    "Original data set can be downloaded here (several GB's): https://nycopendata.socrata.com/Social-Services/311-Service-Requests-from-2010-to-Present/erm2-nwe9"
   ]
  },
  {
   "cell_type": "code",
   "execution_count": 26,
   "metadata": {},
   "outputs": [],
   "source": [
    "connection = sqlite3.connect('311_NYC.db')"
   ]
  },
  {
   "cell_type": "code",
   "execution_count": 27,
   "metadata": {},
   "outputs": [
    {
     "name": "stdout",
     "output_type": "stream",
     "text": [
      "0 seconds: completed 20000 rows\n",
      "0 seconds: completed 40000 rows\n"
     ]
    }
   ],
   "source": [
    "start = dt.datetime.now()\n",
    "chunksize = 20000\n",
    "j = 0\n",
    "index_start = 1\n",
    "\n",
    "for df in pd.read_csv('311_NYC.csv', chunksize=chunksize, iterator=True, encoding='utf-8'):\n",
    "    \n",
    "    df = df.rename(columns={c: c.replace(' ', '') for c in df.columns}) # Remove spaces from columns\n",
    "\n",
    "    df['CreatedDate'] = pd.to_datetime(df['CreatedDate']) # Convert to datetimes\n",
    "    df['ClosedDate'] = pd.to_datetime(df['ClosedDate'])\n",
    "\n",
    "    df.index += index_start\n",
    "\n",
    "    # Columns to keep\n",
    "    columns = ['Agency', 'CreatedDate', 'ClosedDate', 'ComplaintType', 'Descriptor',\n",
    "               'TimeToCompletion','City']\n",
    "\n",
    "    for c in df.columns:\n",
    "        if c not in columns:\n",
    "            df = df.drop(c, axis=1)    \n",
    "\n",
    "    \n",
    "    j+=1\n",
    "\n",
    "    df.to_sql('data', con=connection, if_exists='append') # name of SQL table, connection, append\n",
    "    \n",
    "    \n",
    "    print('{} seconds: completed {} rows'.format((dt.datetime.now() - start).seconds, j*chunksize))\n",
    "    \n",
    "    index_start = df.index[-1] + 1 # update index start"
   ]
  },
  {
   "cell_type": "markdown",
   "metadata": {},
   "source": [
    "#### Preview the DataBase"
   ]
  },
  {
   "cell_type": "code",
   "execution_count": 28,
   "metadata": {},
   "outputs": [
    {
     "data": {
      "text/html": [
       "<div>\n",
       "<style scoped>\n",
       "    .dataframe tbody tr th:only-of-type {\n",
       "        vertical-align: middle;\n",
       "    }\n",
       "\n",
       "    .dataframe tbody tr th {\n",
       "        vertical-align: top;\n",
       "    }\n",
       "\n",
       "    .dataframe thead th {\n",
       "        text-align: right;\n",
       "    }\n",
       "</style>\n",
       "<table border=\"1\" class=\"dataframe\">\n",
       "  <thead>\n",
       "    <tr style=\"text-align: right;\">\n",
       "      <th></th>\n",
       "      <th>index</th>\n",
       "      <th>CreatedDate</th>\n",
       "      <th>ClosedDate</th>\n",
       "      <th>Agency</th>\n",
       "      <th>ComplaintType</th>\n",
       "      <th>Descriptor</th>\n",
       "      <th>City</th>\n",
       "    </tr>\n",
       "  </thead>\n",
       "  <tbody>\n",
       "    <tr>\n",
       "      <th>0</th>\n",
       "      <td>1</td>\n",
       "      <td>2011-06-20 10:53:34</td>\n",
       "      <td>2011-06-20 15:15:10</td>\n",
       "      <td>DOF</td>\n",
       "      <td>DOF Property - Owner Issue</td>\n",
       "      <td>Remove Mortgage</td>\n",
       "      <td>GLEN OAKS</td>\n",
       "    </tr>\n",
       "    <tr>\n",
       "      <th>1</th>\n",
       "      <td>2</td>\n",
       "      <td>2011-06-20 10:43:46</td>\n",
       "      <td>2011-06-30 11:33:32</td>\n",
       "      <td>DOT</td>\n",
       "      <td>Street Condition</td>\n",
       "      <td>Defective Hardware</td>\n",
       "      <td>BROOKLYN</td>\n",
       "    </tr>\n",
       "    <tr>\n",
       "      <th>2</th>\n",
       "      <td>3</td>\n",
       "      <td>2011-06-20 11:14:08</td>\n",
       "      <td>2011-06-21 18:41:35</td>\n",
       "      <td>DHS</td>\n",
       "      <td>DHS Advantage - Tenant</td>\n",
       "      <td>Other Issue</td>\n",
       "      <td>SOUTH RICHMOND HILL</td>\n",
       "    </tr>\n",
       "    <tr>\n",
       "      <th>3</th>\n",
       "      <td>4</td>\n",
       "      <td>2011-06-20 11:19:17</td>\n",
       "      <td>2011-06-20 14:11:47</td>\n",
       "      <td>DOT</td>\n",
       "      <td>Broken Muni Meter</td>\n",
       "      <td>No Receipt</td>\n",
       "      <td>FOREST HILLS</td>\n",
       "    </tr>\n",
       "    <tr>\n",
       "      <th>4</th>\n",
       "      <td>5</td>\n",
       "      <td>2011-06-20 11:41:47</td>\n",
       "      <td>2011-06-27 10:22:55</td>\n",
       "      <td>DOF</td>\n",
       "      <td>SCRIE</td>\n",
       "      <td>SCRIE Recertification</td>\n",
       "      <td>NEW YORK</td>\n",
       "    </tr>\n",
       "  </tbody>\n",
       "</table>\n",
       "</div>"
      ],
      "text/plain": [
       "   index          CreatedDate           ClosedDate Agency  \\\n",
       "0      1  2011-06-20 10:53:34  2011-06-20 15:15:10    DOF   \n",
       "1      2  2011-06-20 10:43:46  2011-06-30 11:33:32    DOT   \n",
       "2      3  2011-06-20 11:14:08  2011-06-21 18:41:35    DHS   \n",
       "3      4  2011-06-20 11:19:17  2011-06-20 14:11:47    DOT   \n",
       "4      5  2011-06-20 11:41:47  2011-06-27 10:22:55    DOF   \n",
       "\n",
       "                ComplaintType             Descriptor                 City  \n",
       "0  DOF Property - Owner Issue        Remove Mortgage            GLEN OAKS  \n",
       "1            Street Condition     Defective Hardware             BROOKLYN  \n",
       "2      DHS Advantage - Tenant            Other Issue  SOUTH RICHMOND HILL  \n",
       "3           Broken Muni Meter             No Receipt         FOREST HILLS  \n",
       "4                       SCRIE  SCRIE Recertification             NEW YORK  "
      ]
     },
     "execution_count": 28,
     "metadata": {},
     "output_type": "execute_result"
    }
   ],
   "source": [
    "pd.read_sql_query('SELECT * FROM data', connection).head()"
   ]
  },
  {
   "cell_type": "markdown",
   "metadata": {},
   "source": [
    "#### Select a few columns"
   ]
  },
  {
   "cell_type": "code",
   "execution_count": 29,
   "metadata": {},
   "outputs": [
    {
     "data": {
      "text/html": [
       "<div>\n",
       "<style scoped>\n",
       "    .dataframe tbody tr th:only-of-type {\n",
       "        vertical-align: middle;\n",
       "    }\n",
       "\n",
       "    .dataframe tbody tr th {\n",
       "        vertical-align: top;\n",
       "    }\n",
       "\n",
       "    .dataframe thead th {\n",
       "        text-align: right;\n",
       "    }\n",
       "</style>\n",
       "<table border=\"1\" class=\"dataframe\">\n",
       "  <thead>\n",
       "    <tr style=\"text-align: right;\">\n",
       "      <th></th>\n",
       "      <th>Agency</th>\n",
       "      <th>Descriptor</th>\n",
       "    </tr>\n",
       "  </thead>\n",
       "  <tbody>\n",
       "    <tr>\n",
       "      <th>0</th>\n",
       "      <td>DOF</td>\n",
       "      <td>Remove Mortgage</td>\n",
       "    </tr>\n",
       "    <tr>\n",
       "      <th>1</th>\n",
       "      <td>DOT</td>\n",
       "      <td>Defective Hardware</td>\n",
       "    </tr>\n",
       "    <tr>\n",
       "      <th>2</th>\n",
       "      <td>DHS</td>\n",
       "      <td>Other Issue</td>\n",
       "    </tr>\n",
       "  </tbody>\n",
       "</table>\n",
       "</div>"
      ],
      "text/plain": [
       "  Agency          Descriptor\n",
       "0    DOF     Remove Mortgage\n",
       "1    DOT  Defective Hardware\n",
       "2    DHS         Other Issue"
      ]
     },
     "execution_count": 29,
     "metadata": {},
     "output_type": "execute_result"
    }
   ],
   "source": [
    "pd.read_sql_query('SELECT Agency, Descriptor FROM data LIMIT 3', connection)"
   ]
  },
  {
   "cell_type": "markdown",
   "metadata": {},
   "source": [
    "#### Filter rows using WHERE"
   ]
  },
  {
   "cell_type": "code",
   "execution_count": 30,
   "metadata": {},
   "outputs": [
    {
     "data": {
      "text/html": [
       "<div>\n",
       "<style scoped>\n",
       "    .dataframe tbody tr th:only-of-type {\n",
       "        vertical-align: middle;\n",
       "    }\n",
       "\n",
       "    .dataframe tbody tr th {\n",
       "        vertical-align: top;\n",
       "    }\n",
       "\n",
       "    .dataframe thead th {\n",
       "        text-align: right;\n",
       "    }\n",
       "</style>\n",
       "<table border=\"1\" class=\"dataframe\">\n",
       "  <thead>\n",
       "    <tr style=\"text-align: right;\">\n",
       "      <th></th>\n",
       "      <th>ComplaintType</th>\n",
       "      <th>Descriptor</th>\n",
       "      <th>Agency</th>\n",
       "    </tr>\n",
       "  </thead>\n",
       "  <tbody>\n",
       "    <tr>\n",
       "      <th>0</th>\n",
       "      <td>Street Condition</td>\n",
       "      <td>Defective Hardware</td>\n",
       "      <td>DOT</td>\n",
       "    </tr>\n",
       "    <tr>\n",
       "      <th>1</th>\n",
       "      <td>Broken Muni Meter</td>\n",
       "      <td>No Receipt</td>\n",
       "      <td>DOT</td>\n",
       "    </tr>\n",
       "    <tr>\n",
       "      <th>2</th>\n",
       "      <td>Street Condition</td>\n",
       "      <td>Cave-in</td>\n",
       "      <td>DOT</td>\n",
       "    </tr>\n",
       "    <tr>\n",
       "      <th>3</th>\n",
       "      <td>Sidewalk Condition</td>\n",
       "      <td>Blocked - Construction</td>\n",
       "      <td>DOT</td>\n",
       "    </tr>\n",
       "    <tr>\n",
       "      <th>4</th>\n",
       "      <td>Broken Parking Meter</td>\n",
       "      <td>Coin or Card Did Not Register</td>\n",
       "      <td>DOT</td>\n",
       "    </tr>\n",
       "    <tr>\n",
       "      <th>5</th>\n",
       "      <td>Street Light Condition</td>\n",
       "      <td>Street Light Out</td>\n",
       "      <td>DOT</td>\n",
       "    </tr>\n",
       "    <tr>\n",
       "      <th>6</th>\n",
       "      <td>Street Condition</td>\n",
       "      <td>Rough, Pitted or Cracked Roads</td>\n",
       "      <td>DOT</td>\n",
       "    </tr>\n",
       "    <tr>\n",
       "      <th>7</th>\n",
       "      <td>Sidewalk Condition</td>\n",
       "      <td>Dumpster - Construction Waste</td>\n",
       "      <td>DOT</td>\n",
       "    </tr>\n",
       "    <tr>\n",
       "      <th>8</th>\n",
       "      <td>Street Condition</td>\n",
       "      <td>Blocked - Construction</td>\n",
       "      <td>DOT</td>\n",
       "    </tr>\n",
       "    <tr>\n",
       "      <th>9</th>\n",
       "      <td>Street Condition</td>\n",
       "      <td>Cave-in</td>\n",
       "      <td>DOT</td>\n",
       "    </tr>\n",
       "  </tbody>\n",
       "</table>\n",
       "</div>"
      ],
      "text/plain": [
       "            ComplaintType                      Descriptor Agency\n",
       "0        Street Condition              Defective Hardware    DOT\n",
       "1       Broken Muni Meter                      No Receipt    DOT\n",
       "2        Street Condition                         Cave-in    DOT\n",
       "3      Sidewalk Condition          Blocked - Construction    DOT\n",
       "4    Broken Parking Meter   Coin or Card Did Not Register    DOT\n",
       "5  Street Light Condition                Street Light Out    DOT\n",
       "6        Street Condition  Rough, Pitted or Cracked Roads    DOT\n",
       "7      Sidewalk Condition   Dumpster - Construction Waste    DOT\n",
       "8        Street Condition          Blocked - Construction    DOT\n",
       "9        Street Condition                         Cave-in    DOT"
      ]
     },
     "execution_count": 30,
     "metadata": {},
     "output_type": "execute_result"
    }
   ],
   "source": [
    "# we can also save the output as a DataFrame\n",
    "df = pd.read_sql_query('SELECT ComplaintType, Descriptor, Agency '\n",
    "                       'FROM data '\n",
    "                       'WHERE Agency = \"DOT\" '\n",
    "                       'LIMIT 10', connection)\n",
    "df"
   ]
  },
  {
   "cell_type": "markdown",
   "metadata": {},
   "source": [
    "#### Filter multiple values in a column using IN"
   ]
  },
  {
   "cell_type": "code",
   "execution_count": 31,
   "metadata": {},
   "outputs": [
    {
     "data": {
      "text/html": [
       "<div>\n",
       "<style scoped>\n",
       "    .dataframe tbody tr th:only-of-type {\n",
       "        vertical-align: middle;\n",
       "    }\n",
       "\n",
       "    .dataframe tbody tr th {\n",
       "        vertical-align: top;\n",
       "    }\n",
       "\n",
       "    .dataframe thead th {\n",
       "        text-align: right;\n",
       "    }\n",
       "</style>\n",
       "<table border=\"1\" class=\"dataframe\">\n",
       "  <thead>\n",
       "    <tr style=\"text-align: right;\">\n",
       "      <th></th>\n",
       "      <th>ComplaintType</th>\n",
       "      <th>Descriptor</th>\n",
       "      <th>Agency</th>\n",
       "    </tr>\n",
       "  </thead>\n",
       "  <tbody>\n",
       "    <tr>\n",
       "      <th>0</th>\n",
       "      <td>Noise - Street/Sidewalk</td>\n",
       "      <td>Loud Music/Party</td>\n",
       "      <td>NYPD</td>\n",
       "    </tr>\n",
       "    <tr>\n",
       "      <th>1</th>\n",
       "      <td>Blocked Driveway</td>\n",
       "      <td>No Access</td>\n",
       "      <td>NYPD</td>\n",
       "    </tr>\n",
       "    <tr>\n",
       "      <th>2</th>\n",
       "      <td>Blocked Driveway</td>\n",
       "      <td>No Access</td>\n",
       "      <td>NYPD</td>\n",
       "    </tr>\n",
       "    <tr>\n",
       "      <th>3</th>\n",
       "      <td>Blocked Driveway</td>\n",
       "      <td>Partial Access</td>\n",
       "      <td>NYPD</td>\n",
       "    </tr>\n",
       "    <tr>\n",
       "      <th>4</th>\n",
       "      <td>Noise - Residential</td>\n",
       "      <td>Loud Music/Party</td>\n",
       "      <td>NYPD</td>\n",
       "    </tr>\n",
       "  </tbody>\n",
       "</table>\n",
       "</div>"
      ],
      "text/plain": [
       "             ComplaintType        Descriptor Agency\n",
       "0  Noise - Street/Sidewalk  Loud Music/Party   NYPD\n",
       "1         Blocked Driveway         No Access   NYPD\n",
       "2         Blocked Driveway         No Access   NYPD\n",
       "3         Blocked Driveway    Partial Access   NYPD\n",
       "4      Noise - Residential  Loud Music/Party   NYPD"
      ]
     },
     "execution_count": 31,
     "metadata": {},
     "output_type": "execute_result"
    }
   ],
   "source": [
    "df = pd.read_sql_query('SELECT ComplaintType, Descriptor, Agency '\n",
    "                       'FROM data '\n",
    "                       'WHERE Agency IN (\"NYPD\", \"DOB\")'\n",
    "                       'LIMIT 20', connection)\n",
    "df.head()"
   ]
  },
  {
   "cell_type": "markdown",
   "metadata": {},
   "source": [
    "#### Find Unique values using DISTINCT"
   ]
  },
  {
   "cell_type": "code",
   "execution_count": 32,
   "metadata": {},
   "outputs": [
    {
     "data": {
      "text/html": [
       "<div>\n",
       "<style scoped>\n",
       "    .dataframe tbody tr th:only-of-type {\n",
       "        vertical-align: middle;\n",
       "    }\n",
       "\n",
       "    .dataframe tbody tr th {\n",
       "        vertical-align: top;\n",
       "    }\n",
       "\n",
       "    .dataframe thead th {\n",
       "        text-align: right;\n",
       "    }\n",
       "</style>\n",
       "<table border=\"1\" class=\"dataframe\">\n",
       "  <thead>\n",
       "    <tr style=\"text-align: right;\">\n",
       "      <th></th>\n",
       "      <th>Agency</th>\n",
       "    </tr>\n",
       "  </thead>\n",
       "  <tbody>\n",
       "    <tr>\n",
       "      <th>0</th>\n",
       "      <td>DOF</td>\n",
       "    </tr>\n",
       "    <tr>\n",
       "      <th>1</th>\n",
       "      <td>DOT</td>\n",
       "    </tr>\n",
       "    <tr>\n",
       "      <th>2</th>\n",
       "      <td>DHS</td>\n",
       "    </tr>\n",
       "    <tr>\n",
       "      <th>3</th>\n",
       "      <td>DOHMH</td>\n",
       "    </tr>\n",
       "    <tr>\n",
       "      <th>4</th>\n",
       "      <td>NYPD</td>\n",
       "    </tr>\n",
       "    <tr>\n",
       "      <th>5</th>\n",
       "      <td>DPR</td>\n",
       "    </tr>\n",
       "    <tr>\n",
       "      <th>6</th>\n",
       "      <td>EDC</td>\n",
       "    </tr>\n",
       "    <tr>\n",
       "      <th>7</th>\n",
       "      <td>TLC</td>\n",
       "    </tr>\n",
       "    <tr>\n",
       "      <th>8</th>\n",
       "      <td>DOB</td>\n",
       "    </tr>\n",
       "    <tr>\n",
       "      <th>9</th>\n",
       "      <td>DCA</td>\n",
       "    </tr>\n",
       "    <tr>\n",
       "      <th>10</th>\n",
       "      <td>DOE</td>\n",
       "    </tr>\n",
       "    <tr>\n",
       "      <th>11</th>\n",
       "      <td>DFTA</td>\n",
       "    </tr>\n",
       "    <tr>\n",
       "      <th>12</th>\n",
       "      <td>FDNY</td>\n",
       "    </tr>\n",
       "    <tr>\n",
       "      <th>13</th>\n",
       "      <td>HPD</td>\n",
       "    </tr>\n",
       "    <tr>\n",
       "      <th>14</th>\n",
       "      <td>DEP</td>\n",
       "    </tr>\n",
       "    <tr>\n",
       "      <th>15</th>\n",
       "      <td>DSNY</td>\n",
       "    </tr>\n",
       "    <tr>\n",
       "      <th>16</th>\n",
       "      <td>DOITT</td>\n",
       "    </tr>\n",
       "    <tr>\n",
       "      <th>17</th>\n",
       "      <td>3-1-1</td>\n",
       "    </tr>\n",
       "  </tbody>\n",
       "</table>\n",
       "</div>"
      ],
      "text/plain": [
       "   Agency\n",
       "0     DOF\n",
       "1     DOT\n",
       "2     DHS\n",
       "3   DOHMH\n",
       "4    NYPD\n",
       "5     DPR\n",
       "6     EDC\n",
       "7     TLC\n",
       "8     DOB\n",
       "9     DCA\n",
       "10    DOE\n",
       "11   DFTA\n",
       "12   FDNY\n",
       "13    HPD\n",
       "14    DEP\n",
       "15   DSNY\n",
       "16  DOITT\n",
       "17  3-1-1"
      ]
     },
     "execution_count": 32,
     "metadata": {},
     "output_type": "execute_result"
    }
   ],
   "source": [
    "df = pd.read_sql_query('SELECT DISTINCT Agency FROM data', connection)\n",
    "df"
   ]
  },
  {
   "cell_type": "markdown",
   "metadata": {},
   "source": [
    "####  Query values using Count(*) and GROUP BY and ORDER BY\n",
    "\n",
    "#### Which agency receives the most complaints?"
   ]
  },
  {
   "cell_type": "code",
   "execution_count": 33,
   "metadata": {},
   "outputs": [
    {
     "data": {
      "text/html": [
       "<div>\n",
       "<style scoped>\n",
       "    .dataframe tbody tr th:only-of-type {\n",
       "        vertical-align: middle;\n",
       "    }\n",
       "\n",
       "    .dataframe tbody tr th {\n",
       "        vertical-align: top;\n",
       "    }\n",
       "\n",
       "    .dataframe thead th {\n",
       "        text-align: right;\n",
       "    }\n",
       "</style>\n",
       "<table border=\"1\" class=\"dataframe\">\n",
       "  <thead>\n",
       "    <tr style=\"text-align: right;\">\n",
       "      <th></th>\n",
       "      <th>Agency</th>\n",
       "      <th>num_complaints</th>\n",
       "    </tr>\n",
       "  </thead>\n",
       "  <tbody>\n",
       "    <tr>\n",
       "      <th>0</th>\n",
       "      <td>HPD</td>\n",
       "      <td>25352</td>\n",
       "    </tr>\n",
       "    <tr>\n",
       "      <th>1</th>\n",
       "      <td>DOT</td>\n",
       "      <td>12708</td>\n",
       "    </tr>\n",
       "    <tr>\n",
       "      <th>2</th>\n",
       "      <td>NYPD</td>\n",
       "      <td>10356</td>\n",
       "    </tr>\n",
       "    <tr>\n",
       "      <th>3</th>\n",
       "      <td>DEP</td>\n",
       "      <td>6760</td>\n",
       "    </tr>\n",
       "    <tr>\n",
       "      <th>4</th>\n",
       "      <td>DSNY</td>\n",
       "      <td>4668</td>\n",
       "    </tr>\n",
       "    <tr>\n",
       "      <th>5</th>\n",
       "      <td>DPR</td>\n",
       "      <td>4552</td>\n",
       "    </tr>\n",
       "    <tr>\n",
       "      <th>6</th>\n",
       "      <td>DOF</td>\n",
       "      <td>4476</td>\n",
       "    </tr>\n",
       "    <tr>\n",
       "      <th>7</th>\n",
       "      <td>DOB</td>\n",
       "      <td>4204</td>\n",
       "    </tr>\n",
       "    <tr>\n",
       "      <th>8</th>\n",
       "      <td>DOHMH</td>\n",
       "      <td>2556</td>\n",
       "    </tr>\n",
       "    <tr>\n",
       "      <th>9</th>\n",
       "      <td>DHS</td>\n",
       "      <td>1524</td>\n",
       "    </tr>\n",
       "    <tr>\n",
       "      <th>10</th>\n",
       "      <td>DCA</td>\n",
       "      <td>1092</td>\n",
       "    </tr>\n",
       "    <tr>\n",
       "      <th>11</th>\n",
       "      <td>TLC</td>\n",
       "      <td>964</td>\n",
       "    </tr>\n",
       "    <tr>\n",
       "      <th>12</th>\n",
       "      <td>DFTA</td>\n",
       "      <td>480</td>\n",
       "    </tr>\n",
       "    <tr>\n",
       "      <th>13</th>\n",
       "      <td>DOE</td>\n",
       "      <td>152</td>\n",
       "    </tr>\n",
       "    <tr>\n",
       "      <th>14</th>\n",
       "      <td>FDNY</td>\n",
       "      <td>76</td>\n",
       "    </tr>\n",
       "    <tr>\n",
       "      <th>15</th>\n",
       "      <td>EDC</td>\n",
       "      <td>40</td>\n",
       "    </tr>\n",
       "    <tr>\n",
       "      <th>16</th>\n",
       "      <td>3-1-1</td>\n",
       "      <td>24</td>\n",
       "    </tr>\n",
       "    <tr>\n",
       "      <th>17</th>\n",
       "      <td>DOITT</td>\n",
       "      <td>16</td>\n",
       "    </tr>\n",
       "  </tbody>\n",
       "</table>\n",
       "</div>"
      ],
      "text/plain": [
       "   Agency  num_complaints\n",
       "0     HPD           25352\n",
       "1     DOT           12708\n",
       "2    NYPD           10356\n",
       "3     DEP            6760\n",
       "4    DSNY            4668\n",
       "5     DPR            4552\n",
       "6     DOF            4476\n",
       "7     DOB            4204\n",
       "8   DOHMH            2556\n",
       "9     DHS            1524\n",
       "10    DCA            1092\n",
       "11    TLC             964\n",
       "12   DFTA             480\n",
       "13    DOE             152\n",
       "14   FDNY              76\n",
       "15    EDC              40\n",
       "16  3-1-1              24\n",
       "17  DOITT              16"
      ]
     },
     "execution_count": 33,
     "metadata": {},
     "output_type": "execute_result"
    }
   ],
   "source": [
    "sql_command = '''\n",
    "SELECT Agency, Count(*) \n",
    "AS num_complaints \n",
    "FROM data \n",
    "GROUP BY Agency \n",
    "ORDER BY num_complaints DESC'''\n",
    "\n",
    "pd.read_sql_query(sql_command,connection)"
   ]
  },
  {
   "cell_type": "markdown",
   "metadata": {},
   "source": [
    "#### What is the most common complaint type?"
   ]
  },
  {
   "cell_type": "code",
   "execution_count": 34,
   "metadata": {},
   "outputs": [
    {
     "data": {
      "text/html": [
       "<div>\n",
       "<style scoped>\n",
       "    .dataframe tbody tr th:only-of-type {\n",
       "        vertical-align: middle;\n",
       "    }\n",
       "\n",
       "    .dataframe tbody tr th {\n",
       "        vertical-align: top;\n",
       "    }\n",
       "\n",
       "    .dataframe thead th {\n",
       "        text-align: right;\n",
       "    }\n",
       "</style>\n",
       "<table border=\"1\" class=\"dataframe\">\n",
       "  <thead>\n",
       "    <tr style=\"text-align: right;\">\n",
       "      <th></th>\n",
       "      <th>ComplaintType</th>\n",
       "      <th>num_complaints</th>\n",
       "    </tr>\n",
       "  </thead>\n",
       "  <tbody>\n",
       "    <tr>\n",
       "      <th>0</th>\n",
       "      <td>GENERAL CONSTRUCTION</td>\n",
       "      <td>6800</td>\n",
       "    </tr>\n",
       "    <tr>\n",
       "      <th>1</th>\n",
       "      <td>Street Light Condition</td>\n",
       "      <td>5384</td>\n",
       "    </tr>\n",
       "    <tr>\n",
       "      <th>2</th>\n",
       "      <td>PLUMBING</td>\n",
       "      <td>5048</td>\n",
       "    </tr>\n",
       "    <tr>\n",
       "      <th>3</th>\n",
       "      <td>PAINT - PLASTER</td>\n",
       "      <td>4756</td>\n",
       "    </tr>\n",
       "    <tr>\n",
       "      <th>4</th>\n",
       "      <td>NONCONST</td>\n",
       "      <td>4480</td>\n",
       "    </tr>\n",
       "  </tbody>\n",
       "</table>\n",
       "</div>"
      ],
      "text/plain": [
       "            ComplaintType  num_complaints\n",
       "0    GENERAL CONSTRUCTION            6800\n",
       "1  Street Light Condition            5384\n",
       "2                PLUMBING            5048\n",
       "3         PAINT - PLASTER            4756\n",
       "4                NONCONST            4480"
      ]
     },
     "execution_count": 34,
     "metadata": {},
     "output_type": "execute_result"
    }
   ],
   "source": [
    "df = pd.read_sql_query('SELECT ComplaintType, Count(*) AS num_complaints '\n",
    "                       'FROM data '\n",
    "                       'GROUP BY ComplaintType '\n",
    "                       'ORDER BY num_complaints DESC', connection)\n",
    "\n",
    "df.head()"
   ]
  },
  {
   "cell_type": "markdown",
   "metadata": {},
   "source": [
    "#### Number of complaints per city for the top 10 cities with most complaints"
   ]
  },
  {
   "cell_type": "code",
   "execution_count": 35,
   "metadata": {},
   "outputs": [
    {
     "data": {
      "text/html": [
       "<div>\n",
       "<style scoped>\n",
       "    .dataframe tbody tr th:only-of-type {\n",
       "        vertical-align: middle;\n",
       "    }\n",
       "\n",
       "    .dataframe tbody tr th {\n",
       "        vertical-align: top;\n",
       "    }\n",
       "\n",
       "    .dataframe thead th {\n",
       "        text-align: right;\n",
       "    }\n",
       "</style>\n",
       "<table border=\"1\" class=\"dataframe\">\n",
       "  <thead>\n",
       "    <tr style=\"text-align: right;\">\n",
       "      <th></th>\n",
       "      <th>City</th>\n",
       "      <th>num_complaints</th>\n",
       "    </tr>\n",
       "  </thead>\n",
       "  <tbody>\n",
       "    <tr>\n",
       "      <th>0</th>\n",
       "      <td>BROOKLYN</td>\n",
       "      <td>26140</td>\n",
       "    </tr>\n",
       "    <tr>\n",
       "      <th>1</th>\n",
       "      <td>BRONX</td>\n",
       "      <td>14344</td>\n",
       "    </tr>\n",
       "    <tr>\n",
       "      <th>2</th>\n",
       "      <td>NEW YORK</td>\n",
       "      <td>12872</td>\n",
       "    </tr>\n",
       "    <tr>\n",
       "      <th>3</th>\n",
       "      <td>STATEN ISLAND</td>\n",
       "      <td>4452</td>\n",
       "    </tr>\n",
       "    <tr>\n",
       "      <th>4</th>\n",
       "      <td>None</td>\n",
       "      <td>4344</td>\n",
       "    </tr>\n",
       "    <tr>\n",
       "      <th>5</th>\n",
       "      <td>JAMAICA</td>\n",
       "      <td>2296</td>\n",
       "    </tr>\n",
       "    <tr>\n",
       "      <th>6</th>\n",
       "      <td>FLUSHING</td>\n",
       "      <td>1500</td>\n",
       "    </tr>\n",
       "    <tr>\n",
       "      <th>7</th>\n",
       "      <td>ASTORIA</td>\n",
       "      <td>1184</td>\n",
       "    </tr>\n",
       "    <tr>\n",
       "      <th>8</th>\n",
       "      <td>RIDGEWOOD</td>\n",
       "      <td>940</td>\n",
       "    </tr>\n",
       "    <tr>\n",
       "      <th>9</th>\n",
       "      <td>CORONA</td>\n",
       "      <td>680</td>\n",
       "    </tr>\n",
       "    <tr>\n",
       "      <th>10</th>\n",
       "      <td>OZONE PARK</td>\n",
       "      <td>584</td>\n",
       "    </tr>\n",
       "    <tr>\n",
       "      <th>11</th>\n",
       "      <td>QUEENS VILLAGE</td>\n",
       "      <td>572</td>\n",
       "    </tr>\n",
       "    <tr>\n",
       "      <th>12</th>\n",
       "      <td>FAR ROCKAWAY</td>\n",
       "      <td>552</td>\n",
       "    </tr>\n",
       "    <tr>\n",
       "      <th>13</th>\n",
       "      <td>WOODSIDE</td>\n",
       "      <td>516</td>\n",
       "    </tr>\n",
       "    <tr>\n",
       "      <th>14</th>\n",
       "      <td>FOREST HILLS</td>\n",
       "      <td>452</td>\n",
       "    </tr>\n",
       "    <tr>\n",
       "      <th>15</th>\n",
       "      <td>SOUTH RICHMOND HILL</td>\n",
       "      <td>448</td>\n",
       "    </tr>\n",
       "    <tr>\n",
       "      <th>16</th>\n",
       "      <td>JACKSON HEIGHTS</td>\n",
       "      <td>448</td>\n",
       "    </tr>\n",
       "    <tr>\n",
       "      <th>17</th>\n",
       "      <td>ELMHURST</td>\n",
       "      <td>444</td>\n",
       "    </tr>\n",
       "    <tr>\n",
       "      <th>18</th>\n",
       "      <td>BAYSIDE</td>\n",
       "      <td>440</td>\n",
       "    </tr>\n",
       "    <tr>\n",
       "      <th>19</th>\n",
       "      <td>FRESH MEADOWS</td>\n",
       "      <td>412</td>\n",
       "    </tr>\n",
       "  </tbody>\n",
       "</table>\n",
       "</div>"
      ],
      "text/plain": [
       "                   City  num_complaints\n",
       "0              BROOKLYN           26140\n",
       "1                 BRONX           14344\n",
       "2              NEW YORK           12872\n",
       "3         STATEN ISLAND            4452\n",
       "4                  None            4344\n",
       "5               JAMAICA            2296\n",
       "6              FLUSHING            1500\n",
       "7               ASTORIA            1184\n",
       "8             RIDGEWOOD             940\n",
       "9                CORONA             680\n",
       "10           OZONE PARK             584\n",
       "11       QUEENS VILLAGE             572\n",
       "12         FAR ROCKAWAY             552\n",
       "13             WOODSIDE             516\n",
       "14         FOREST HILLS             452\n",
       "15  SOUTH RICHMOND HILL             448\n",
       "16      JACKSON HEIGHTS             448\n",
       "17             ELMHURST             444\n",
       "18              BAYSIDE             440\n",
       "19        FRESH MEADOWS             412"
      ]
     },
     "execution_count": 35,
     "metadata": {},
     "output_type": "execute_result"
    }
   ],
   "source": [
    "sql_command = '''\n",
    "SELECT City, Count(*) AS num_complaints\n",
    "FROM Data\n",
    "GROUP BY City\n",
    "ORDER BY num_complaints DESC\n",
    "LIMIT 20\n",
    "'''\n",
    "\n",
    "df = pd.read_sql_query(sql_command, connection)\n",
    "df"
   ]
  },
  {
   "cell_type": "markdown",
   "metadata": {},
   "source": [
    "#### Perform Case Insensitive Queries"
   ]
  },
  {
   "cell_type": "code",
   "execution_count": 36,
   "metadata": {},
   "outputs": [
    {
     "data": {
      "text/html": [
       "<div>\n",
       "<style scoped>\n",
       "    .dataframe tbody tr th:only-of-type {\n",
       "        vertical-align: middle;\n",
       "    }\n",
       "\n",
       "    .dataframe tbody tr th {\n",
       "        vertical-align: top;\n",
       "    }\n",
       "\n",
       "    .dataframe thead th {\n",
       "        text-align: right;\n",
       "    }\n",
       "</style>\n",
       "<table border=\"1\" class=\"dataframe\">\n",
       "  <thead>\n",
       "    <tr style=\"text-align: right;\">\n",
       "      <th></th>\n",
       "      <th>City</th>\n",
       "      <th>num_complaints</th>\n",
       "    </tr>\n",
       "  </thead>\n",
       "  <tbody>\n",
       "    <tr>\n",
       "      <th>0</th>\n",
       "      <td>BROOKLYN</td>\n",
       "      <td>26140</td>\n",
       "    </tr>\n",
       "    <tr>\n",
       "      <th>1</th>\n",
       "      <td>BRONX</td>\n",
       "      <td>14344</td>\n",
       "    </tr>\n",
       "    <tr>\n",
       "      <th>2</th>\n",
       "      <td>NEW YORK</td>\n",
       "      <td>12872</td>\n",
       "    </tr>\n",
       "    <tr>\n",
       "      <th>3</th>\n",
       "      <td>STATEN ISLAND</td>\n",
       "      <td>4452</td>\n",
       "    </tr>\n",
       "    <tr>\n",
       "      <th>4</th>\n",
       "      <td>None</td>\n",
       "      <td>4344</td>\n",
       "    </tr>\n",
       "    <tr>\n",
       "      <th>5</th>\n",
       "      <td>JAMAICA</td>\n",
       "      <td>2312</td>\n",
       "    </tr>\n",
       "    <tr>\n",
       "      <th>6</th>\n",
       "      <td>FLUSHING</td>\n",
       "      <td>1528</td>\n",
       "    </tr>\n",
       "    <tr>\n",
       "      <th>7</th>\n",
       "      <td>ASTORIA</td>\n",
       "      <td>1200</td>\n",
       "    </tr>\n",
       "    <tr>\n",
       "      <th>8</th>\n",
       "      <td>RIDGEWOOD</td>\n",
       "      <td>948</td>\n",
       "    </tr>\n",
       "    <tr>\n",
       "      <th>9</th>\n",
       "      <td>CORONA</td>\n",
       "      <td>688</td>\n",
       "    </tr>\n",
       "    <tr>\n",
       "      <th>10</th>\n",
       "      <td>OZONE PARK</td>\n",
       "      <td>588</td>\n",
       "    </tr>\n",
       "    <tr>\n",
       "      <th>11</th>\n",
       "      <td>QUEENS VILLAGE</td>\n",
       "      <td>576</td>\n",
       "    </tr>\n",
       "    <tr>\n",
       "      <th>12</th>\n",
       "      <td>FAR ROCKAWAY</td>\n",
       "      <td>556</td>\n",
       "    </tr>\n",
       "    <tr>\n",
       "      <th>13</th>\n",
       "      <td>WOODSIDE</td>\n",
       "      <td>516</td>\n",
       "    </tr>\n",
       "    <tr>\n",
       "      <th>14</th>\n",
       "      <td>Elmhurst</td>\n",
       "      <td>460</td>\n",
       "    </tr>\n",
       "    <tr>\n",
       "      <th>15</th>\n",
       "      <td>SOUTH RICHMOND HILL</td>\n",
       "      <td>456</td>\n",
       "    </tr>\n",
       "    <tr>\n",
       "      <th>16</th>\n",
       "      <td>JACKSON HEIGHTS</td>\n",
       "      <td>452</td>\n",
       "    </tr>\n",
       "    <tr>\n",
       "      <th>17</th>\n",
       "      <td>FOREST HILLS</td>\n",
       "      <td>452</td>\n",
       "    </tr>\n",
       "    <tr>\n",
       "      <th>18</th>\n",
       "      <td>BAYSIDE</td>\n",
       "      <td>440</td>\n",
       "    </tr>\n",
       "    <tr>\n",
       "      <th>19</th>\n",
       "      <td>FRESH MEADOWS</td>\n",
       "      <td>416</td>\n",
       "    </tr>\n",
       "  </tbody>\n",
       "</table>\n",
       "</div>"
      ],
      "text/plain": [
       "                   City  num_complaints\n",
       "0              BROOKLYN           26140\n",
       "1                 BRONX           14344\n",
       "2              NEW YORK           12872\n",
       "3         STATEN ISLAND            4452\n",
       "4                  None            4344\n",
       "5               JAMAICA            2312\n",
       "6              FLUSHING            1528\n",
       "7               ASTORIA            1200\n",
       "8             RIDGEWOOD             948\n",
       "9                CORONA             688\n",
       "10           OZONE PARK             588\n",
       "11       QUEENS VILLAGE             576\n",
       "12         FAR ROCKAWAY             556\n",
       "13             WOODSIDE             516\n",
       "14             Elmhurst             460\n",
       "15  SOUTH RICHMOND HILL             456\n",
       "16      JACKSON HEIGHTS             452\n",
       "17         FOREST HILLS             452\n",
       "18              BAYSIDE             440\n",
       "19        FRESH MEADOWS             416"
      ]
     },
     "execution_count": 36,
     "metadata": {},
     "output_type": "execute_result"
    }
   ],
   "source": [
    "sql_command = '''\n",
    "SELECT City, Count(*) AS num_complaints\n",
    "FROM Data\n",
    "GROUP BY City COLLATE NOCASE\n",
    "ORDER BY num_complaints DESC\n",
    "LIMIT 20\n",
    "'''\n",
    "\n",
    "df = pd.read_sql_query(sql_command, connection)\n",
    "df # Jamaica, Flushing etc have more complaints now"
   ]
  },
  {
   "cell_type": "markdown",
   "metadata": {},
   "source": [
    "<div id=\"sec3\"></div>"
   ]
  },
  {
   "cell_type": "code",
   "execution_count": null,
   "metadata": {},
   "outputs": [],
   "source": []
  },
  {
   "cell_type": "code",
   "execution_count": null,
   "metadata": {},
   "outputs": [],
   "source": []
  },
  {
   "cell_type": "code",
   "execution_count": null,
   "metadata": {},
   "outputs": [],
   "source": []
  },
  {
   "cell_type": "code",
   "execution_count": null,
   "metadata": {},
   "outputs": [],
   "source": []
  },
  {
   "cell_type": "code",
   "execution_count": null,
   "metadata": {},
   "outputs": [],
   "source": []
  },
  {
   "cell_type": "markdown",
   "metadata": {},
   "source": [
    "# ORM: Object Relational Mapper"
   ]
  },
  {
   "cell_type": "markdown",
   "metadata": {},
   "source": [
    "# Use SQLAlchemy to define tables as classes\n",
    "### Make use of ORM (Object Relational Mapper)\n",
    "Great for large scale systems"
   ]
  },
  {
   "cell_type": "code",
   "execution_count": null,
   "metadata": {},
   "outputs": [],
   "source": [
    "import os\n",
    "import sys\n",
    "from sqlalchemy import Column, ForeignKey, Integer, String\n",
    "from sqlalchemy.ext.declarative import declarative_base\n",
    "from sqlalchemy.orm import relationship\n",
    "from sqlalchemy import create_engine\n",
    " \n",
    "Base = declarative_base()\n",
    " \n",
    "class Person(Base):\n",
    "    __tablename__ = 'person'\n",
    "    # Here we define columns for the table person\n",
    "    # Notice that each column is also a normal Python instance attribute.\n",
    "    id = Column(Integer, primary_key=True)\n",
    "    name = Column(String(250), nullable=False)\n",
    "    \n",
    "class Address(Base):\n",
    "    __tablename__ = 'address'\n",
    "    # Here we define columns for the table address.\n",
    "    # Notice that each column is also a normal Python instance attribute.\n",
    "    id = Column(Integer, primary_key=True)\n",
    "    street_name = Column(String(250))\n",
    "    street_number = Column(String(250))\n",
    "    post_code = Column(String(250), nullable=False)\n",
    "    person_id = Column(Integer, ForeignKey('person.id'))\n",
    "    person = relationship(Person)\n",
    "    \n",
    "    \n",
    "# Create an engine that stores data in the local directory's\n",
    "# sqlalchemy_example.db file.\n",
    "engine = create_engine('sqlite:///sqlalchemy_example.db')\n",
    " \n",
    "# Create all tables in the engine. This is equivalent to \"Create Table\"\n",
    "# statements in raw SQL.\n",
    "Base.metadata.create_all(engine)"
   ]
  },
  {
   "cell_type": "code",
   "execution_count": null,
   "metadata": {},
   "outputs": [],
   "source": [
    "from sqlalchemy.orm import sessionmaker\n",
    " \n",
    "# Bind the engine to the metadata of the Base class so that the\n",
    "# declaratives can be accessed through a DBSession instance\n",
    "Base.metadata.bind = engine\n",
    " \n",
    "DBSession = sessionmaker(bind=engine)\n",
    "# A DBSession() instance establishes all conversations with the database\n",
    "# and represents a \"staging zone\" for all the objects loaded into the\n",
    "# database session object. Any change made against the objects in the\n",
    "# session won't be persisted into the database until you call\n",
    "# session.commit(). If you're not happy about the changes, you can\n",
    "# revert all of them back to the last commit by calling\n",
    "# session.rollback()\n",
    "session = DBSession()\n",
    " \n",
    "# Insert a Person in the person table\n",
    "new_person = Person(name='new person')\n",
    "session.add(new_person)\n",
    "session.commit()\n",
    " \n",
    "# Insert an Address in the address table\n",
    "new_address = Address(post_code='00000', person=new_person,\n",
    "                     street_name='28th st.')\n",
    "session.add(new_address)\n",
    "session.commit()"
   ]
  },
  {
   "cell_type": "code",
   "execution_count": null,
   "metadata": {},
   "outputs": [],
   "source": [
    "# Make a query to find all Persons in the database\n",
    "address = session.query(Address).all()\n",
    "for a in address:\n",
    "    print(a.street_name)\n",
    "\n",
    "\n",
    "\n",
    "# Return the first Person from all Persons in the database\n",
    "person = session.query(Person).first()\n",
    "print(person.name)\n",
    "# Find all Address whose person field is pointing to the person object\n",
    "session.query(Address).filter(Address.person == person).all()\n",
    "\n",
    "# Retrieve one Address whose person field is point to the person object\n",
    "session.query(Address).filter(Address.person == person).one()\n",
    "\n",
    "address = session.query(Address).filter(Address.person == person).one()\n",
    "address.post_code"
   ]
  }
 ],
 "metadata": {
  "anaconda-cloud": {},
  "kernelspec": {
   "display_name": "Python 3 (ipykernel)",
   "language": "python",
   "name": "python3"
  },
  "language_info": {
   "codemirror_mode": {
    "name": "ipython",
    "version": 3
   },
   "file_extension": ".py",
   "mimetype": "text/x-python",
   "name": "python",
   "nbconvert_exporter": "python",
   "pygments_lexer": "ipython3",
   "version": "3.7.11"
  }
 },
 "nbformat": 4,
 "nbformat_minor": 4
}
