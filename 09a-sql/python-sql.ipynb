{
 "cells": [
  {
   "cell_type": "markdown",
   "metadata": {},
   "source": [
    "![data-x](https://raw.githubusercontent.com/afo/data-x-plaksha/master/imgsource/dx_logo.png)\n",
    "\n",
    "---\n",
    "# Notebook: SQL in Python\n",
    "\n",
    "**Author list:** Alexander Fred Ojala & Sindhuja Jeyabal\n",
    "\n",
    "**References / Sources:** \n",
    "\n",
    "\n",
    "**License Agreement:** Feel free to do whatever you want with this code\n",
    "\n",
    "___"
   ]
  },
  {
   "cell_type": "markdown",
   "metadata": {},
   "source": [
    "# Table of Contents\n",
    "\n",
    "### * [Basics: sqlite3 (Python builtin)](#sec1)\n",
    "### * [Pandas and SQL](#sec2)\n",
    "### * [Breakout](#sec3)\n",
    "### * [ORM: SQLAlchemy](#sec4)"
   ]
  },
  {
   "cell_type": "markdown",
   "metadata": {},
   "source": [
    "<div id=\"sec1\"></div>"
   ]
  },
  {
   "cell_type": "markdown",
   "metadata": {},
   "source": [
    "## SQLite 3"
   ]
  },
  {
   "cell_type": "code",
   "execution_count": null,
   "metadata": {},
   "outputs": [],
   "source": [
    "# sqlite3 package comes with the Python installation\n",
    "import sqlite3"
   ]
  },
  {
   "cell_type": "code",
   "execution_count": null,
   "metadata": {
    "scrolled": true
   },
   "outputs": [],
   "source": [
    "# list files in w.d.\n",
    "!ls"
   ]
  },
  {
   "cell_type": "code",
   "execution_count": null,
   "metadata": {},
   "outputs": [],
   "source": [
    "# open connnection to a db file stored locally on disk\n",
    "# if file doesn't exist it is created\n",
    "connection = sqlite3.connect('company.db')"
   ]
  },
  {
   "cell_type": "code",
   "execution_count": null,
   "metadata": {},
   "outputs": [],
   "source": [
    "!ls # file is created"
   ]
  },
  {
   "cell_type": "code",
   "execution_count": null,
   "metadata": {},
   "outputs": [],
   "source": [
    "# In order to run SQL commands with\n",
    "# sqlite 3 we must create a cursor object\n",
    "# that traverses the database\n",
    "cursor = connection.cursor()\n",
    "\n",
    "# to run sql commands execute them"
   ]
  },
  {
   "cell_type": "code",
   "execution_count": null,
   "metadata": {},
   "outputs": [],
   "source": [
    "# Check that we are working with an empty db\n",
    "cursor.execute(\"DROP TABLE IF EXISTS employee;\")"
   ]
  },
  {
   "cell_type": "code",
   "execution_count": null,
   "metadata": {},
   "outputs": [],
   "source": [
    "# We can define long SQL commands within three quotes\n",
    "\n",
    "sql_command = \"\"\"\n",
    "CREATE TABLE employee (\n",
    "staff_number INTEGER PRIMARY KEY,\n",
    "fname VARCHAR(20),\n",
    "lname VARCHAR(30),\n",
    "gender CHAR(1),\n",
    "birth_date DATE);\n",
    "\"\"\"\n",
    "\n",
    "# VARCHAR string that can be up to X characters\n",
    "# CHAR has to be X characters"
   ]
  },
  {
   "cell_type": "markdown",
   "metadata": {},
   "source": [
    "**Link to SQL datatypes:** [https://www.w3schools.com/sql/sql_datatypes.asp](https://www.w3schools.com/sql/sql_datatypes.asp)"
   ]
  },
  {
   "cell_type": "code",
   "execution_count": null,
   "metadata": {},
   "outputs": [],
   "source": [
    "# In order to run SQL command on the databse file\n",
    "# we have to execute them with the cursor\n",
    "cursor.execute(sql_command)"
   ]
  },
  {
   "cell_type": "code",
   "execution_count": null,
   "metadata": {},
   "outputs": [],
   "source": [
    "sql_command = '''\n",
    "INSERT INTO employee\n",
    "(staff_number, fname, lname, gender, birth_date)\n",
    "VALUES\n",
    "(NULL, NULL, \"Shakespeare\", \"m\", \"1961-10-25\");'''\n",
    "\n",
    "cursor.execute(sql_command)"
   ]
  },
  {
   "cell_type": "code",
   "execution_count": null,
   "metadata": {},
   "outputs": [],
   "source": [
    "cursor.execute('SELECT * FROM employee;').fetchall()"
   ]
  },
  {
   "cell_type": "code",
   "execution_count": null,
   "metadata": {},
   "outputs": [],
   "source": [
    "sql_command = '''\n",
    "INSERT INTO employee \n",
    "(staff_number, fname, lname, gender, birth_date) \n",
    "VALUES (5, \"Frankia2\", \"Schillerya2\", \"m\", \"1958-08-17\");'''\n",
    "\n",
    "\n",
    "cursor.execute(sql_command)"
   ]
  },
  {
   "cell_type": "code",
   "execution_count": null,
   "metadata": {},
   "outputs": [],
   "source": [
    "# never forget to commit your queries\n",
    "# if you have updated the database\n",
    "# and close the connection when you're done\n",
    "\n",
    "connection.commit() \n",
    "\n",
    "connection.close()"
   ]
  },
  {
   "cell_type": "code",
   "execution_count": null,
   "metadata": {},
   "outputs": [],
   "source": [
    "# reopen the connection and create cursor\n",
    "connection = sqlite3.connect('company.db')\n",
    "\n",
    "cursor = connection.cursor()"
   ]
  },
  {
   "cell_type": "code",
   "execution_count": null,
   "metadata": {},
   "outputs": [],
   "source": [
    "a = cursor.execute('SELECT * FROM employee;')"
   ]
  },
  {
   "cell_type": "code",
   "execution_count": null,
   "metadata": {},
   "outputs": [],
   "source": [
    "a"
   ]
  },
  {
   "cell_type": "code",
   "execution_count": null,
   "metadata": {},
   "outputs": [],
   "source": [
    "# fetch values, a.fetchall is a generator object\n",
    "for row in a.fetchall():\n",
    "    print(row)"
   ]
  },
  {
   "cell_type": "code",
   "execution_count": null,
   "metadata": {},
   "outputs": [],
   "source": [
    "# close connection\n",
    "connection.close()"
   ]
  },
  {
   "cell_type": "code",
   "execution_count": null,
   "metadata": {},
   "outputs": [],
   "source": [
    "# Assume we already have a company.db sqlite database file\n",
    "# with a Table called employees\n",
    "\n",
    "# Add several values with sqlite3 and string formatting\n",
    "\n",
    "connection = sqlite3.connect(\"company.db\")\n",
    "\n",
    "cursor = connection.cursor()\n",
    "\n",
    "# list of tuples we want to add to the database\n",
    "staff_data = [ (\"Alfred\", \"Nobel\", \"m\", \"1921-05-02\"), \\\n",
    "              (\"Klaus\", \"Kinski\", \"m\", \"1935-09-07\"),  \\\n",
    "              (\"Jane\", \"Wall\", \"f\", \"1989-05-03\") ]\n",
    "\n",
    "for p in staff_data:\n",
    "    \n",
    "    # define string to be formatted, name format placeholders within curly brackets\n",
    "    format_str = '''\n",
    "    INSERT INTO employee (staff_number, fname, lname, gender, birth_date)    \n",
    "    VALUES (NULL, \"{first}\", \"{last}\", \"{gender}\", \"{birthdate}\");\n",
    "    '''\n",
    "\n",
    "    # define SQL command\n",
    "    sql_command = format_str.format(first=p[0], last=p[1], \n",
    "                                gender=p[2], birthdate = p[3]) \n",
    "    \n",
    "    cursor.execute(sql_command)\n",
    "    \n",
    "# Commit changes\n",
    "connection.commit()"
   ]
  },
  {
   "cell_type": "code",
   "execution_count": null,
   "metadata": {},
   "outputs": [],
   "source": [
    "# Check that the changes were committed\n",
    "cursor.execute(\"SELECT * FROM employee\") \n",
    "\n",
    "print(\"fetchall:\") \n",
    "\n",
    "result = cursor.fetchall() \n",
    "\n",
    "for r in result:\n",
    "\n",
    "    print(r) "
   ]
  },
  {
   "cell_type": "code",
   "execution_count": null,
   "metadata": {},
   "outputs": [],
   "source": [
    "cursor.execute('SELECT Count(*) FROM employee').fetchone()[0]"
   ]
  },
  {
   "cell_type": "code",
   "execution_count": null,
   "metadata": {},
   "outputs": [],
   "source": [
    "# Alternative approach\n",
    "\n",
    "# Count rows in the database\n",
    "n_rows = cursor.execute('SELECT Count(*) FROM employee').fetchone()[0]\n",
    "\n",
    "res = cursor.execute(\"SELECT * FROM employee\") \n",
    "\n",
    "print(\"\\nFetch one at a time:\") \n",
    "for i in range(0,n_rows): # we need to unpack\n",
    "    tmp = res.fetchone() \n",
    "\n",
    "    print(tmp)"
   ]
  },
  {
   "cell_type": "markdown",
   "metadata": {},
   "source": [
    "<div id=\"sec2\"></div>"
   ]
  },
  {
   "cell_type": "markdown",
   "metadata": {},
   "source": [
    "# Quick Data Analysis with SQL and Pandas"
   ]
  },
  {
   "cell_type": "markdown",
   "metadata": {},
   "source": [
    "### Preferred method when running SELECT statements"
   ]
  },
  {
   "cell_type": "code",
   "execution_count": null,
   "metadata": {},
   "outputs": [],
   "source": [
    "import pandas as pd\n",
    "import datetime as dt "
   ]
  },
  {
   "cell_type": "code",
   "execution_count": null,
   "metadata": {},
   "outputs": [],
   "source": [
    "# this gives the output as a dataframe\n",
    "pd.read_sql_query('SELECT * FROM employee',con = connection)"
   ]
  },
  {
   "cell_type": "markdown",
   "metadata": {},
   "source": [
    "#### Initialize database with filename 311_NYC.db in current working directory"
   ]
  },
  {
   "cell_type": "code",
   "execution_count": null,
   "metadata": {},
   "outputs": [],
   "source": [
    "!head -n10 311_NYC.csv"
   ]
  },
  {
   "cell_type": "code",
   "execution_count": null,
   "metadata": {},
   "outputs": [],
   "source": [
    "!wc -l 311_NYC.csv #number of lines"
   ]
  },
  {
   "cell_type": "markdown",
   "metadata": {
    "tags": []
   },
   "source": [
    "### Read in big CSV file to Database\n",
    "\n",
    "Original data set can be downloaded here (several GB's): https://nycopendata.socrata.com/Social-Services/311-Service-Requests-from-2010-to-Present/erm2-nwe9"
   ]
  },
  {
   "cell_type": "code",
   "execution_count": null,
   "metadata": {},
   "outputs": [],
   "source": [
    "connection = sqlite3.connect('311_NYC.db')"
   ]
  },
  {
   "cell_type": "code",
   "execution_count": null,
   "metadata": {},
   "outputs": [],
   "source": [
    "start = dt.datetime.now()\n",
    "chunksize = 20000\n",
    "j = 0\n",
    "index_start = 1\n",
    "\n",
    "for df in pd.read_csv('311_NYC.csv', chunksize=chunksize, iterator=True, encoding='utf-8'):\n",
    "    \n",
    "    df = df.rename(columns={c: c.replace(' ', '') for c in df.columns}) # Remove spaces from columns\n",
    "\n",
    "    df['CreatedDate'] = pd.to_datetime(df['CreatedDate']) # Convert to datetimes\n",
    "    df['ClosedDate'] = pd.to_datetime(df['ClosedDate'])\n",
    "\n",
    "    df.index += index_start\n",
    "\n",
    "    # Columns to keep\n",
    "    columns = ['Agency', 'CreatedDate', 'ClosedDate', 'ComplaintType', 'Descriptor',\n",
    "               'TimeToCompletion','City']\n",
    "\n",
    "    for c in df.columns:\n",
    "        if c not in columns:\n",
    "            df = df.drop(c, axis=1)    \n",
    "\n",
    "    \n",
    "    j+=1\n",
    "\n",
    "    df.to_sql('data', con=connection, if_exists='append') # name of SQL table, connection, append\n",
    "    \n",
    "    \n",
    "    print('{} seconds: completed {} rows'.format((dt.datetime.now() - start).seconds, j*chunksize))\n",
    "    \n",
    "    index_start = df.index[-1] + 1 # update index start"
   ]
  },
  {
   "cell_type": "markdown",
   "metadata": {},
   "source": [
    "#### Preview the DataBase"
   ]
  },
  {
   "cell_type": "code",
   "execution_count": null,
   "metadata": {},
   "outputs": [],
   "source": [
    "pd.read_sql_query('SELECT * FROM data', connection).head()"
   ]
  },
  {
   "cell_type": "markdown",
   "metadata": {},
   "source": [
    "#### Select a few columns"
   ]
  },
  {
   "cell_type": "code",
   "execution_count": null,
   "metadata": {},
   "outputs": [],
   "source": [
    "pd.read_sql_query('SELECT Agency, Descriptor FROM data LIMIT 3', connection)"
   ]
  },
  {
   "cell_type": "markdown",
   "metadata": {},
   "source": [
    "#### Filter rows using WHERE"
   ]
  },
  {
   "cell_type": "code",
   "execution_count": null,
   "metadata": {},
   "outputs": [],
   "source": [
    "# we can also save the output as a DataFrame\n",
    "df = pd.read_sql_query('SELECT ComplaintType, Descriptor, Agency '\n",
    "                       'FROM data '\n",
    "                       'WHERE Agency = \"DOT\" '\n",
    "                       'LIMIT 10', connection)\n",
    "df"
   ]
  },
  {
   "cell_type": "markdown",
   "metadata": {},
   "source": [
    "#### Filter multiple values in a column using IN"
   ]
  },
  {
   "cell_type": "code",
   "execution_count": null,
   "metadata": {},
   "outputs": [],
   "source": [
    "df = pd.read_sql_query('SELECT ComplaintType, Descriptor, Agency '\n",
    "                       'FROM data '\n",
    "                       'WHERE Agency IN (\"NYPD\", \"DOB\")'\n",
    "                       'LIMIT 20', connection)\n",
    "df.head()"
   ]
  },
  {
   "cell_type": "markdown",
   "metadata": {},
   "source": [
    "#### Find Unique values using DISTINCT"
   ]
  },
  {
   "cell_type": "code",
   "execution_count": null,
   "metadata": {},
   "outputs": [],
   "source": [
    "df = pd.read_sql_query('SELECT DISTINCT Agency FROM data', connection)\n",
    "df"
   ]
  },
  {
   "cell_type": "markdown",
   "metadata": {},
   "source": [
    "####  Query values using Count(*) and GROUP BY and ORDER BY\n",
    "\n",
    "#### Which agency receives the most complaints?"
   ]
  },
  {
   "cell_type": "code",
   "execution_count": null,
   "metadata": {},
   "outputs": [],
   "source": [
    "sql_command = '''\n",
    "SELECT Agency, Count(*) \n",
    "AS num_complaints \n",
    "FROM data \n",
    "GROUP BY Agency \n",
    "ORDER BY num_complaints DESC'''\n",
    "\n",
    "pd.read_sql_query(sql_command,connection)"
   ]
  },
  {
   "cell_type": "markdown",
   "metadata": {},
   "source": [
    "#### What is the most common complaint type?"
   ]
  },
  {
   "cell_type": "code",
   "execution_count": null,
   "metadata": {},
   "outputs": [],
   "source": [
    "df = pd.read_sql_query('SELECT ComplaintType, Count(*) AS num_complaints '\n",
    "                       'FROM data '\n",
    "                       'GROUP BY ComplaintType '\n",
    "                       'ORDER BY num_complaints DESC', connection)\n",
    "\n",
    "df.head(10)"
   ]
  },
  {
   "cell_type": "markdown",
   "metadata": {},
   "source": [
    "#### Number of complaints per city for the top 10 cities with most complaints"
   ]
  },
  {
   "cell_type": "code",
   "execution_count": null,
   "metadata": {},
   "outputs": [],
   "source": [
    "sql_command = '''\n",
    "SELECT City, Count(*) AS num_complaints\n",
    "FROM Data\n",
    "GROUP BY City\n",
    "ORDER BY num_complaints DESC\n",
    "LIMIT 20\n",
    "'''\n",
    "\n",
    "df = pd.read_sql_query(sql_command, connection)\n",
    "df"
   ]
  },
  {
   "cell_type": "markdown",
   "metadata": {},
   "source": [
    "#### Perform Case Insensitive Queries"
   ]
  },
  {
   "cell_type": "code",
   "execution_count": null,
   "metadata": {},
   "outputs": [],
   "source": [
    "sql_command = '''\n",
    "SELECT City, Count(*) AS num_complaints\n",
    "FROM Data\n",
    "GROUP BY City COLLATE NOCASE\n",
    "ORDER BY num_complaints DESC\n",
    "LIMIT 20\n",
    "'''\n",
    "\n",
    "df = pd.read_sql_query(sql_command, connection)\n",
    "df # Jamaica, Flushing etc have more complaints now"
   ]
  },
  {
   "cell_type": "markdown",
   "metadata": {},
   "source": [
    "<div id=\"sec3\"></div>"
   ]
  },
  {
   "cell_type": "code",
   "execution_count": null,
   "metadata": {},
   "outputs": [],
   "source": []
  },
  {
   "cell_type": "code",
   "execution_count": null,
   "metadata": {},
   "outputs": [],
   "source": []
  },
  {
   "cell_type": "code",
   "execution_count": null,
   "metadata": {},
   "outputs": [],
   "source": []
  },
  {
   "cell_type": "code",
   "execution_count": null,
   "metadata": {},
   "outputs": [],
   "source": []
  },
  {
   "cell_type": "markdown",
   "metadata": {},
   "source": [
    "# ORM: Object Relational Mapper"
   ]
  },
  {
   "cell_type": "markdown",
   "metadata": {},
   "source": [
    "# Use SQLAlchemy to define tables as classes\n",
    "### Make use of ORM (Object Relational Mapper)\n",
    "Great for large scale systems"
   ]
  },
  {
   "cell_type": "code",
   "execution_count": null,
   "metadata": {},
   "outputs": [],
   "source": [
    "import os\n",
    "import sys\n",
    "from sqlalchemy import Column, ForeignKey, Integer, String\n",
    "from sqlalchemy.ext.declarative import declarative_base\n",
    "from sqlalchemy.orm import relationship\n",
    "from sqlalchemy import create_engine\n",
    " \n",
    "Base = declarative_base()\n",
    " \n",
    "class Person(Base):\n",
    "    __tablename__ = 'person'\n",
    "    # Here we define columns for the table person\n",
    "    # Notice that each column is also a normal Python instance attribute.\n",
    "    id = Column(Integer, primary_key=True)\n",
    "    name = Column(String(250), nullable=False)\n",
    "    \n",
    "class Address(Base):\n",
    "    __tablename__ = 'address'\n",
    "    # Here we define columns for the table address.\n",
    "    # Notice that each column is also a normal Python instance attribute.\n",
    "    id = Column(Integer, primary_key=True)\n",
    "    street_name = Column(String(250))\n",
    "    street_number = Column(String(250))\n",
    "    post_code = Column(String(250), nullable=False)\n",
    "    person_id = Column(Integer, ForeignKey('person.id'))\n",
    "    person = relationship(Person)\n",
    "    \n",
    "    \n",
    "# Create an engine that stores data in the local directory's\n",
    "# sqlalchemy_example.db file.\n",
    "engine = create_engine('sqlite:///sqlalchemy_example.db')\n",
    " \n",
    "# Create all tables in the engine. This is equivalent to \"Create Table\"\n",
    "# statements in raw SQL.\n",
    "Base.metadata.create_all(engine)"
   ]
  },
  {
   "cell_type": "code",
   "execution_count": null,
   "metadata": {},
   "outputs": [],
   "source": [
    "from sqlalchemy.orm import sessionmaker\n",
    " \n",
    "# Bind the engine to the metadata of the Base class so that the\n",
    "# declaratives can be accessed through a DBSession instance\n",
    "Base.metadata.bind = engine\n",
    " \n",
    "DBSession = sessionmaker(bind=engine)\n",
    "# A DBSession() instance establishes all conversations with the database\n",
    "# and represents a \"staging zone\" for all the objects loaded into the\n",
    "# database session object. Any change made against the objects in the\n",
    "# session won't be persisted into the database until you call\n",
    "# session.commit(). If you're not happy about the changes, you can\n",
    "# revert all of them back to the last commit by calling\n",
    "# session.rollback()\n",
    "session = DBSession()\n",
    " \n",
    "# Insert a Person in the person table\n",
    "new_person = Person(name='new person')\n",
    "session.add(new_person)\n",
    "session.commit()\n",
    " \n",
    "# Insert an Address in the address table\n",
    "new_address = Address(post_code='00000', person=new_person,\n",
    "                     street_name='28th st.')\n",
    "session.add(new_address)\n",
    "session.commit()"
   ]
  },
  {
   "cell_type": "code",
   "execution_count": null,
   "metadata": {},
   "outputs": [],
   "source": [
    "# Make a query to find all Persons in the database\n",
    "address = session.query(Address).all()\n",
    "for a in address:\n",
    "    print(a.street_name)\n",
    "\n",
    "\n",
    "\n",
    "# Return the first Person from all Persons in the database\n",
    "person = session.query(Person).first()\n",
    "print(person.name)\n",
    "# Find all Address whose person field is pointing to the person object\n",
    "session.query(Address).filter(Address.person == person).all()\n",
    "\n",
    "# Retrieve one Address whose person field is point to the person object\n",
    "session.query(Address).filter(Address.person == person).one()\n",
    "\n",
    "address = session.query(Address).filter(Address.person == person).one()\n",
    "address.post_code"
   ]
  }
 ],
 "metadata": {
  "anaconda-cloud": {},
  "kernelspec": {
   "display_name": "Python 3 (ipykernel)",
   "language": "python",
   "name": "python3"
  },
  "language_info": {
   "codemirror_mode": {
    "name": "ipython",
    "version": 3
   },
   "file_extension": ".py",
   "mimetype": "text/x-python",
   "name": "python",
   "nbconvert_exporter": "python",
   "pygments_lexer": "ipython3",
   "version": "3.9.15"
  }
 },
 "nbformat": 4,
 "nbformat_minor": 4
}
