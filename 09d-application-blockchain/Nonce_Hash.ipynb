{
 "cells": [
  {
   "cell_type": "code",
   "execution_count": 7,
   "id": "aa6a4325-55a1-4520-ba20-889835d7fb21",
   "metadata": {},
   "outputs": [
    {
     "name": "stdout",
     "output_type": "stream",
     "text": [
      "1f4b6dbd86017bd422a531a356101c93aed822382d5cfb079de018e5f7ce8801\n"
     ]
    }
   ],
   "source": [
    "# Hash a single string with hashlib.sha256\n",
    "import hashlib\n",
    "a_string = 'tx1, tx2, tx3, hash_prev_block + random651338'\n",
    "hashed_string = hashlib.sha256(a_string.encode('utf-8')).hexdigest()\n",
    "print(hashed_string)"
   ]
  },
  {
   "cell_type": "code",
   "execution_count": 8,
   "id": "db1a6425-b7d6-4fec-b79b-b06dc549d753",
   "metadata": {},
   "outputs": [],
   "source": [
    "# Find a nonce, hash output that starts with 5 zeroes\n",
    "\n",
    "for i in range(10000000): #ten million guesses\n",
    "    nonce = ' + random'+str(i)\n",
    "    block_info_nonce = 'tx1, tx2, tx3, hash_prev_block'+nonce\n",
    "    hashed_string = hashlib.sha256(block_info_nonce.encode('utf-8')).hexdigest()\n",
    "    if hashed_string[:8] == '00000000':\n",
    "        print(block_info_nonce)\n",
    "        print(hashed_string)\n"
   ]
  },
  {
   "cell_type": "code",
   "execution_count": null,
   "id": "f988fb2d-b1ba-46b0-a040-62a9c74b3d9d",
   "metadata": {},
   "outputs": [],
   "source": []
  }
 ],
 "metadata": {
  "kernelspec": {
   "display_name": "Python 3 (ipykernel)",
   "language": "python",
   "name": "python3"
  },
  "language_info": {
   "codemirror_mode": {
    "name": "ipython",
    "version": 3
   },
   "file_extension": ".py",
   "mimetype": "text/x-python",
   "name": "python",
   "nbconvert_exporter": "python",
   "pygments_lexer": "ipython3",
   "version": "3.7.11"
  }
 },
 "nbformat": 4,
 "nbformat_minor": 5
}
