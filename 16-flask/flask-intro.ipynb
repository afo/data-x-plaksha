{
 "cells": [
  {
   "cell_type": "markdown",
   "metadata": {},
   "source": [
    "# Intro to Flask\n",
    "\n",
    "**Authors:** Alexander Fred-Ojala, Elias Castro-Hernandez\n",
    "\n",
    "----\n",
    "\n",
    "This notebook introduces developers and data scientists to web development using Flask.\n",
    "\n",
    "`Flask` is one of many available `web server gateway interface (WSGI)` tools that enable you to create rapid and scalable websites and apps. It also has a relatively accessible learning curve. The barebones capacity of Flask is particularly valuable when prototyping and iterating upon products, services, and machine learning applications.\n",
    "\n",
    "[**Flask**](https://flask.palletsprojects.com/en/1.1.x/) is a microframework that is barebones by design. Flask has no [**data abstraction layer**](https://en.wikipedia.org/wiki/Database_abstraction_layer), does not perform [**form validation**](https://developer.mozilla.org/en-US/docs/Learn/Forms/Form_validation#What_is_form_validation), nor does it include custom packages if they already exist as a package/library, elsewhere. This makes Flask particularly easy to customize, and leads to less bloated systems.\n",
    "\n",
    ">For an accessible overview see [Harvard's CS50 lecture on using Flask](https://youtu.be/zdgYw-3tzfI).<br>\n",
    ">For a crash course (1-hr intensive), see the ['Learn Flask For Python'](https://youtu.be/Z1RJmh_OqeA) tutorial by [freeCodeCamp.org](https://www.freecodecamp.org/)."
   ]
  },
  {
   "cell_type": "markdown",
   "metadata": {},
   "source": [
    "# Virtual Environment\n",
    "\n",
    "Note: Everyime you create a separate Flask application it is standard practice to install a separate Virtual Environment for it. You can read more about how to do it in the Flask documentation: https://flask.palletsprojects.com/en/1.1.x/installation/#installation\n",
    "\n",
    "<br>\n",
    "\n",
    "**About virtualenv:** virtualenv allows users to create isolated environments for Python projects. This means that each project can be shared, collaborated upon, and modified regardless of the project dependencies -- since any dependencies, packages, and libraries are stored in directory files that are tied to the project itself and not the *local (working directory)* machine. To learn more:\n",
    "\n",
    "> [**Real Python (Python Virtual Environments: A Primer)**](https://realpython.com/python-virtual-environments-a-primer/)"
   ]
  },
  {
   "cell_type": "markdown",
   "metadata": {},
   "source": [
    "\n",
    "## **REFERENCES** AND ADDITIONAL **RESOURCES**\n",
    "\n",
    "<br>\n",
    "\n",
    "\n",
    "> * [**Learn Flask for Python by FreeCodeCamp.org**](https://www.youtube.com/watch?v=Z1RJmh_OqeA)\n",
    "\n",
    "> * [**Flask Web Development in Python 3 - Variables in your HTML by Sentdex**](https://youtu.be/4vvHkziL3oQ) \n",
    "\n",
    "> * [**Discover Flask by Real Python**](https://realpython.com/introduction-to-flask-part-1-setting-up-a-static-site/)\n",
    "\n",
    "> * [**Flask Mega Tutorial by Miguel Grinberg**](https://courses.miguelgrinberg.com/courses/flask-mega-tutorial/lectures/5203689)"
   ]
  },
  {
   "cell_type": "markdown",
   "metadata": {},
   "source": [
    "# Barebones Flask application"
   ]
  },
  {
   "cell_type": "markdown",
   "metadata": {},
   "source": [
    "Read more about Flask and go through the official Quick start guide here: https://flask.palletsprojects.com/en/1.1.x/quickstart/\n",
    "\n",
    "Learn more about Python decorators: https://realpython.com/primer-on-python-decorators/\n",
    "\n",
    "Disclaimer: This notebook is only for educational purposes. Never create Flask apps in a notebook, but write scripts instead and run them from your terminal."
   ]
  },
  {
   "cell_type": "code",
   "execution_count": 2,
   "metadata": {},
   "outputs": [
    {
     "data": {
      "text/plain": [
       "'__main__'"
      ]
     },
     "execution_count": 2,
     "metadata": {},
     "output_type": "execute_result"
    }
   ],
   "source": [
    "__name__"
   ]
  },
  {
   "cell_type": "code",
   "execution_count": 6,
   "metadata": {},
   "outputs": [
    {
     "name": "stdout",
     "output_type": "stream",
     "text": [
      " * Serving Flask app '__name__' (lazy loading)\n",
      " * Environment: production\n",
      "\u001b[31m   WARNING: This is a development server. Do not use it in a production deployment.\u001b[0m\n",
      "\u001b[2m   Use a production WSGI server instead.\u001b[0m\n",
      " * Debug mode: off\n"
     ]
    },
    {
     "name": "stderr",
     "output_type": "stream",
     "text": [
      " * Running on http://127.0.0.1:5000/ (Press CTRL+C to quit)\n",
      "127.0.0.1 - - [21/Dec/2021 10:09:54] \"GET / HTTP/1.1\" 200 -\n",
      "127.0.0.1 - - [21/Dec/2021 10:09:57] \"GET /plaksha HTTP/1.1\" 200 -\n"
     ]
    }
   ],
   "source": [
    "from flask import Flask # import Flask class\n",
    "\n",
    "app = Flask('__name__') # Create a Flask instance\n",
    "# name or module. For single application it'd be __name__\n",
    "\n",
    "# Decorator takes another function and extends the behavior of the latter function without explicitly modifying it.\n",
    "@app.route('/') # decorator to tell Flask what URL should trigger the function below\n",
    "def hello_world(): # function that will return results for the webpage\n",
    "    return('Hello World')\n",
    "\n",
    "@app.route('/plaksha') # decorator to tell Flask what URL should trigger the function below\n",
    "def hello_world2(): # function that will return results for the webpage\n",
    "    return('<h1>Hello Plaksha!</h1>')\n",
    "\n",
    "if __name__ == '__main__':\n",
    "    app.run() # starts development server"
   ]
  },
  {
   "cell_type": "markdown",
   "metadata": {},
   "source": [
    "# More routes\n",
    "\n",
    "Modern web applications use meaningful URLs to help users. Users are more likely to like a page and come back if the page uses a meaningful URL they can remember and use to directly visit a page.\n",
    "\n",
    "Use the route() decorator to bind a function to a URL."
   ]
  },
  {
   "cell_type": "markdown",
   "metadata": {},
   "source": [
    "### Variable Rules\n",
    "\n",
    "You can add variable sections to a URL by marking sections with \\<variable_name>. Your function then receives the \\<variable_name> as a keyword argument."
   ]
  },
  {
   "cell_type": "code",
   "execution_count": 7,
   "metadata": {},
   "outputs": [
    {
     "name": "stdout",
     "output_type": "stream",
     "text": [
      " * Serving Flask app '__name__' (lazy loading)\n",
      " * Environment: production\n",
      "\u001b[31m   WARNING: This is a development server. Do not use it in a production deployment.\u001b[0m\n",
      "\u001b[2m   Use a production WSGI server instead.\u001b[0m\n",
      " * Debug mode: off\n"
     ]
    },
    {
     "name": "stderr",
     "output_type": "stream",
     "text": [
      " * Running on http://127.0.0.1:5000/ (Press CTRL+C to quit)\n",
      "127.0.0.1 - - [21/Dec/2021 10:11:31] \"GET / HTTP/1.1\" 200 -\n",
      "127.0.0.1 - - [21/Dec/2021 10:11:33] \"GET /hi HTTP/1.1\" 200 -\n",
      "127.0.0.1 - - [21/Dec/2021 10:11:39] \"GET /user/alex HTTP/1.1\" 200 -\n",
      "127.0.0.1 - - [21/Dec/2021 10:11:45] \"GET /user/alex55 HTTP/1.1\" 200 -\n"
     ]
    }
   ],
   "source": [
    "from flask import Flask\n",
    "\n",
    "app = Flask('__name__')\n",
    "\n",
    "\n",
    "@app.route('/')\n",
    "def hello_world():\n",
    "    return('Hello World')\n",
    "\n",
    "@app.route('/hi') # decorator to tell Flask what URL should trigger the function below\n",
    "def hi():\n",
    "    return('Hi hi hi hi')\n",
    "\n",
    "@app.route('/user/<username>') # variable section added to the URL\n",
    "def show_user_profile(username): # variable passed to the function\n",
    "    # show the user profile for that user\n",
    "    return('User {}'.format(username))\n",
    "\n",
    "if __name__ == '__main__':\n",
    "    app.run()"
   ]
  },
  {
   "cell_type": "markdown",
   "metadata": {},
   "source": [
    "# Rendering Templates\n",
    "\n",
    "Generating HTML from within Python is not fun, and actually pretty cumbersome because you have to do the HTML escaping on your own to keep the application secure. Because of that Flask configures the Jinja2 template engine for you automatically.\n",
    "\n",
    "To render a template you can use the render_template() method. All you have to do is provide the name of the template and the variables you want to pass to the template engine as keyword arguments. Here’s a simple example of how to render a template:\n",
    "\n",
    "Case 1: a module:\n",
    "\n",
    "    /application.py\n",
    "    /templates\n",
    "        /hello.html\n",
    "\n",
    "### Base template and inheritance \n",
    "\n",
    "You can also create a base template for your projects and have e.g. a nav bar for all your subsites. Read more here: https://flask.palletsprojects.com/en/1.1.x/patterns/templateinheritance/"
   ]
  },
  {
   "cell_type": "code",
   "execution_count": 8,
   "metadata": {},
   "outputs": [
    {
     "name": "stdout",
     "output_type": "stream",
     "text": [
      " * Serving Flask app '__name__' (lazy loading)\n",
      " * Environment: production\n",
      "\u001b[31m   WARNING: This is a development server. Do not use it in a production deployment.\u001b[0m\n",
      "\u001b[2m   Use a production WSGI server instead.\u001b[0m\n",
      " * Debug mode: off\n"
     ]
    },
    {
     "name": "stderr",
     "output_type": "stream",
     "text": [
      " * Running on http://127.0.0.1:5000/ (Press CTRL+C to quit)\n",
      "127.0.0.1 - - [21/Dec/2021 10:16:08] \"GET / HTTP/1.1\" 200 -\n",
      "127.0.0.1 - - [21/Dec/2021 10:16:20] \"GET /hello/ HTTP/1.1\" 200 -\n",
      "127.0.0.1 - - [21/Dec/2021 10:16:24] \"GET /hello/plaksha HTTP/1.1\" 200 -\n",
      "127.0.0.1 - - [21/Dec/2021 10:16:27] \"GET /hello/pla HTTP/1.1\" 200 -\n"
     ]
    }
   ],
   "source": [
    "from flask import Flask, render_template\n",
    "\n",
    "app = Flask('__name__')\n",
    "\n",
    "@app.route('/')\n",
    "def index():\n",
    "    return('Home page')\n",
    "\n",
    "@app.route('/hello/')\n",
    "@app.route('/hello/<name>')\n",
    "def hello(name=None):\n",
    "    return render_template('hello.html', name=name)\n",
    "\n",
    "if __name__ == '__main__':\n",
    "    app.run()"
   ]
  },
  {
   "cell_type": "markdown",
   "metadata": {},
   "source": [
    "# Note on CSS and Static files\n",
    "\n",
    "To add styling in a CSS file or add images to your webapp a static folder is often used. Read more here: https://flask.palletsprojects.com/en/1.1.x/tutorial/static/"
   ]
  },
  {
   "cell_type": "markdown",
   "metadata": {},
   "source": [
    "# API, URL arguments and JSON Post requests\n",
    "\n",
    "A common response format when writing an API is JSON. It’s easy to get started writing such an API with Flask. If you return a dict from a view, it will be converted to a JSON response.\n",
    "\n",
    "You can also make a GET request with parameters in the URL."
   ]
  },
  {
   "cell_type": "code",
   "execution_count": 13,
   "metadata": {},
   "outputs": [
    {
     "name": "stdout",
     "output_type": "stream",
     "text": [
      " * Serving Flask app '__name__' (lazy loading)\n",
      " * Environment: production\n",
      "\u001b[31m   WARNING: This is a development server. Do not use it in a production deployment.\u001b[0m\n",
      "\u001b[2m   Use a production WSGI server instead.\u001b[0m\n",
      " * Debug mode: off\n"
     ]
    },
    {
     "name": "stderr",
     "output_type": "stream",
     "text": [
      " * Running on http://127.0.0.1:5000/ (Press CTRL+C to quit)\n",
      "127.0.0.1 - - [21/Dec/2021 10:31:59] \"POST /query-example HTTP/1.1\" 200 -\n"
     ]
    }
   ],
   "source": [
    "from flask import Flask, render_template, request\n",
    "\n",
    "app = Flask('__name__')\n",
    "\n",
    "@app.route('/') # decorator to tell Flask what URL should trigger the function below\n",
    "def index():\n",
    "    return('<h1>Home page</h1>')\n",
    "\n",
    "\n",
    "d = {'name':'Alex','location':'Sweden'}\n",
    "\n",
    "@app.route(\"/data\")\n",
    "def data():\n",
    "    return(d)\n",
    "\n",
    "\n",
    "@app.route('/query-example', methods=['GET','POST'])\n",
    "def json_example():\n",
    "    if request.method == 'POST':\n",
    "        req_data = request.get_json()\n",
    "        \n",
    "    if request.method == 'GET':\n",
    "        req_data = request.args\n",
    "        # example: http://127.0.0.1:5000/query-example?name=alex&num42=2&num2=1337\n",
    "\n",
    "        \n",
    "    name = req_data['name']\n",
    "    num1 = req_data['num1']\n",
    "    num2 = req_data['num2']    \n",
    "    res = int(num1)+int(num2)\n",
    "\n",
    "    return '''\n",
    "           The name value is: {}\n",
    "           The added number is: {}'''.format(name,res)\n",
    "\n",
    "\n",
    "if __name__ == '__main__':\n",
    "    app.run()"
   ]
  },
  {
   "cell_type": "markdown",
   "metadata": {},
   "source": [
    "# Forms\n",
    "\n"
   ]
  },
  {
   "cell_type": "code",
   "execution_count": 15,
   "metadata": {},
   "outputs": [
    {
     "name": "stdout",
     "output_type": "stream",
     "text": [
      " * Serving Flask app '__main__' (lazy loading)\n",
      " * Environment: production\n",
      "\u001b[31m   WARNING: This is a development server. Do not use it in a production deployment.\u001b[0m\n",
      "\u001b[2m   Use a production WSGI server instead.\u001b[0m\n",
      " * Debug mode: off\n"
     ]
    },
    {
     "name": "stderr",
     "output_type": "stream",
     "text": [
      " * Running on http://127.0.0.1:5000/ (Press CTRL+C to quit)\n",
      "127.0.0.1 - - [21/Dec/2021 10:36:08] \"GET / HTTP/1.1\" 200 -\n",
      "127.0.0.1 - - [21/Dec/2021 10:36:39] \"POST /send HTTP/1.1\" 200 -\n"
     ]
    }
   ],
   "source": [
    "from flask import Flask, render_template,request\n",
    "app = Flask(__name__)\n",
    "\n",
    "@app.route('/', methods = ['GET'])\n",
    "@app.route('/send', methods = ['GET','POST']) # Post request route willl be mapped to HTML form\n",
    "def send():\n",
    "    if request.method == 'POST': # if post request has been made the Send route\n",
    "        age = request.form['age'] # request the age value from the Form\n",
    "        return render_template('age.html',age=age) # pass age value to the age.html page (passed to Jinja's placeholder) and render\n",
    "    return render_template('index.html')\n",
    "\n",
    "if __name__ == '__main__':\n",
    "    app.run()"
   ]
  },
  {
   "cell_type": "code",
   "execution_count": null,
   "metadata": {},
   "outputs": [],
   "source": []
  }
 ],
 "metadata": {
  "kernelspec": {
   "display_name": "Python 3 (ipykernel)",
   "language": "python",
   "name": "python3"
  },
  "language_info": {
   "codemirror_mode": {
    "name": "ipython",
    "version": 3
   },
   "file_extension": ".py",
   "mimetype": "text/x-python",
   "name": "python",
   "nbconvert_exporter": "python",
   "pygments_lexer": "ipython3",
   "version": "3.7.11"
  }
 },
 "nbformat": 4,
 "nbformat_minor": 4
}
